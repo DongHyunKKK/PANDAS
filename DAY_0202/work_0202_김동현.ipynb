{
 "cells": [
  {
   "cell_type": "code",
   "execution_count": 1,
   "metadata": {},
   "outputs": [],
   "source": [
    "import pymysql\n",
    "import pandas as pd\n",
    "import numpy as np"
   ]
  },
  {
   "cell_type": "markdown",
   "metadata": {},
   "source": [
    "- user_table 생성"
   ]
  },
  {
   "cell_type": "code",
   "execution_count": 2,
   "metadata": {},
   "outputs": [],
   "source": [
    "def create_table(conn, cur):\n",
    "    try:\n",
    "        query1 = 'drop table if exists user_table'\n",
    "        query2 = \"\"\"\n",
    "            create table user_table\n",
    "            (userID char(8),\n",
    "            userName varchar(10),\n",
    "            birthYear int,\n",
    "            addr char(2),\n",
    "            mobile1 char(3),\n",
    "            mobile2 char(8),\n",
    "            height smallint,\n",
    "            mDate date,\n",
    "            CONSTRAINT pk_user_table primary key (userID))\n",
    "        \"\"\"\n",
    "        cur.execute(query1)\n",
    "        cur.execute(query2)\n",
    "        conn.commit()\n",
    "        print('Table 생성 완료')\n",
    "    \n",
    "    except Exception as e:\n",
    "        print(e)"
   ]
  },
  {
   "cell_type": "code",
   "execution_count": 4,
   "metadata": {},
   "outputs": [
    {
     "name": "stdout",
     "output_type": "stream",
     "text": [
      "Table 생성 완료\n",
      "Database 연결 종료\n"
     ]
    }
   ],
   "source": [
    "def main():\n",
    "    # 데이터베이스(shoppingmall) 연결\n",
    "    conn = pymysql.connect(host = 'localhost',\n",
    "                           user = 'root', password = '2357',\n",
    "                           db = 'shoppingmall', charset = 'utf8')\n",
    "    \n",
    "    # cursor 객체 생성\n",
    "    cur = conn.cursor()\n",
    "\n",
    "    # 테이블 생성 함수 호출\n",
    "    create_table(conn, cur)\n",
    "\n",
    "    # 연결 종료\n",
    "    cur.close()\n",
    "    conn.close()\n",
    "    print('Database 연결 종료')\n",
    "\n",
    "main()"
   ]
  },
  {
   "cell_type": "code",
   "execution_count": 5,
   "metadata": {},
   "outputs": [
    {
     "name": "stdout",
     "output_type": "stream",
     "text": [
      "INSERT 완료\n"
     ]
    }
   ],
   "source": [
    "conn = pymysql.connect(host = 'localhost',\n",
    "                           user = 'root', password = '2357',\n",
    "                           db = 'shoppingmall', charset = 'utf8')\n",
    "\n",
    "curs = conn.cursor()\n",
    "sql = \"\"\"insert into user_table(userID, userName, birthYear, addr, mobile1, mobile2, height, mDate)\n",
    "            values (%s, %s, %s, %s, %s, %s, %s, %s)\"\"\"\n",
    "\n",
    "curs.execute(sql, ('KHD', '강호동', 1970, '경북', '011', '22222222', 182, '2007-07-07'))\n",
    "curs.execute(sql, ('KJD', '김제동', 1974, '경남', None, None, 173, '2013-03-03'))\n",
    "curs.execute(sql, ('KKJ', '김국진', 1965, '서울', '019', '33333333', 171, '2009-09-09'))\n",
    "curs.execute(sql, ('KYM', '김용만', 1967, '서울', '010', '44444444', 177, '2015-05-05'))\n",
    "curs.execute(sql, ('LHJ', '이휘재', 1972, '경기', '011', '88888888', 180, '2006-04-04'))\n",
    "curs.execute(sql, ('LKK', '이경규', 1960, '경남', '018', '99999999', 170, '2004-12-12'))\n",
    "curs.execute(sql, ('NHS', '남희석', 1971, '충남', '016', '66666666', 180, '2017-04-04'))\n",
    "curs.execute(sql, ('PSH', '박수홍', 1970, '서울', '010', '00000000', 183, '2012-05-05'))\n",
    "curs.execute(sql, ('SDY', '신동엽', 1971, '경기', None, None, 176, '2008-10-10'))\n",
    "curs.execute(sql, ('YJS', '유재석', 1972, '서울', '010', '11111111', 178, '2008-08-08'))\n",
    "\n",
    "conn.commit()\n",
    "print('INSERT 완료')\n",
    "\n",
    "curs.close()\n",
    "conn.close()"
   ]
  },
  {
   "cell_type": "markdown",
   "metadata": {},
   "source": [
    "- buy_table 생성"
   ]
  },
  {
   "cell_type": "code",
   "execution_count": 10,
   "metadata": {},
   "outputs": [],
   "source": [
    "def create_table(conn, cur):\n",
    "    try:\n",
    "        query1 = 'drop table if exists buy_table'\n",
    "        query2 = \"\"\"\n",
    "            create table buy_table\n",
    "            (num int,\n",
    "            userID char(8),\n",
    "            prodName char(6),\n",
    "            groupName char(4),\n",
    "            price int,\n",
    "            amount smallint,\n",
    "            CONSTRAINT pk_buy_table primary key(num),\n",
    "            foreign key(userID) references user_table(userID))\n",
    "        \"\"\"\n",
    "        cur.execute(query1)\n",
    "        cur.execute(query2)\n",
    "        conn.commit()\n",
    "        print('Table 생성 완료')\n",
    "    \n",
    "    except Exception as e:\n",
    "        print(e)"
   ]
  },
  {
   "cell_type": "code",
   "execution_count": 9,
   "metadata": {},
   "outputs": [
    {
     "name": "stdout",
     "output_type": "stream",
     "text": [
      "Table 생성 완료\n",
      "Database 연결 종료\n"
     ]
    }
   ],
   "source": [
    "def main():\n",
    "    # 데이터베이스(shoppingmall) 연결\n",
    "    conn = pymysql.connect(host = 'localhost',\n",
    "                           user = 'root', password = '2357',\n",
    "                           db = 'shoppingmall', charset = 'utf8')\n",
    "    \n",
    "    # cursor 객체 생성\n",
    "    cur = conn.cursor()\n",
    "\n",
    "    # 테이블 생성 함수 호출\n",
    "    create_table(conn, cur)\n",
    "\n",
    "    # 연결 종료\n",
    "    cur.close()\n",
    "    conn.close()\n",
    "    print('Database 연결 종료')\n",
    "\n",
    "main()"
   ]
  },
  {
   "cell_type": "code",
   "execution_count": 11,
   "metadata": {},
   "outputs": [
    {
     "name": "stdout",
     "output_type": "stream",
     "text": [
      "INSERT 완료\n"
     ]
    }
   ],
   "source": [
    "conn = pymysql.connect(host = 'localhost',\n",
    "                           user = 'root', password = '2357',\n",
    "                           db = 'shoppingmall', charset = 'utf8')\n",
    "\n",
    "curs = conn.cursor()\n",
    "sql = \"\"\"insert into buy_table(num, userID, prodName, groupName, price, amount)\n",
    "            values (%s, %s, %s, %s, %s, %s)\"\"\"\n",
    "\n",
    "curs.execute(sql, (1, 'KHD', '운동화', None, 30, 2))\n",
    "curs.execute(sql, (2, 'KHD', '노트북', '전자', 1000, 1))\n",
    "curs.execute(sql, (3, 'KYM', '모니터', '전자', 200, 1))\n",
    "curs.execute(sql, (4, 'PSH', '모니터', '전자', 200, 5))\n",
    "curs.execute(sql, (5, 'KHD', '청바지', '의류', 50, 3))\n",
    "curs.execute(sql, (6, 'PSH', '메모리', '전자', 80, 10))\n",
    "curs.execute(sql, (7, 'KJD', '책', '서적', 15, 5))\n",
    "curs.execute(sql, (8, 'LHJ', '책', '서적', 15, 2))\n",
    "curs.execute(sql, (9, 'LHJ', '청바지', '의류', 50, 1))\n",
    "curs.execute(sql, (10, 'PSH', '운동화', None, 30, 2))\n",
    "curs.execute(sql, (11, 'LHJ', '책', '서적', 15, 1))\n",
    "curs.execute(sql, (12, 'PSH', '운동화', None, 30, 2))\n",
    "\n",
    "conn.commit()\n",
    "print('INSERT 완료')\n",
    "\n",
    "curs.close()\n",
    "conn.close()"
   ]
  },
  {
   "cell_type": "markdown",
   "metadata": {},
   "source": [
    "- python 실행 결과"
   ]
  },
  {
   "cell_type": "code",
   "execution_count": 12,
   "metadata": {},
   "outputs": [
    {
     "name": "stdout",
     "output_type": "stream",
     "text": [
      "문제 1번\n",
      "------------------------------------------\n",
      " userName prodName   addr       연락처\n",
      "------------------------------------------\n",
      "('강호동', '운동화', '경북', '01122222222')\n",
      "('강호동', '노트북', '경북', '01122222222')\n",
      "('김용만', '모니터', '서울', '01044444444')\n",
      "('박수홍', '모니터', '서울', '01000000000')\n",
      "('강호동', '청바지', '경북', '01122222222')\n",
      "('박수홍', '메모리', '서울', '01000000000')\n",
      "('김제동', '책', '경남', None)\n",
      "('이휘재', '책', '경기', '01188888888')\n",
      "('이휘재', '청바지', '경기', '01188888888')\n",
      "('박수홍', '운동화', '서울', '01000000000')\n",
      "('이휘재', '책', '경기', '01188888888')\n",
      "('박수홍', '운동화', '서울', '01000000000')\n"
     ]
    }
   ],
   "source": [
    "conn = pymysql.connect(host = 'localhost', user = 'root', password = '2357',\n",
    "                       db = 'shoppingmall', charset = 'utf8')\n",
    "\n",
    "cur = conn.cursor()\n",
    "query = \"\"\"\n",
    "select userName, prodName, addr, concat(mobile1, mobile2) as 연락처\n",
    "from buy_table as b\n",
    "\tinner join user_table as u\n",
    "\ton b.userID = u.userID\"\"\"\n",
    "\n",
    "print('문제 1번')\n",
    "print('-' * 42)\n",
    "print(f\" {'userName'} {'prodName'}   {'addr'}       {'연락처'}\")\n",
    "print('-' * 42)\n",
    "\n",
    "cur.execute(query)\n",
    "rows = cur.fetchall()\n",
    "for row in rows:\n",
    "    print(row)\n",
    "\n",
    "cur.close()\n",
    "conn.close()"
   ]
  },
  {
   "cell_type": "code",
   "execution_count": 13,
   "metadata": {},
   "outputs": [
    {
     "name": "stdout",
     "output_type": "stream",
     "text": [
      "문제 2번\n",
      "--------------------------------------------------\n",
      " userID userName prodName   addr      연락처\n",
      "--------------------------------------------------\n",
      "('KYM', '김용만', '모니터', '서울', '01044444444')\n"
     ]
    }
   ],
   "source": [
    "conn = pymysql.connect(host = 'localhost', user = 'root', password = '2357',\n",
    "                       db = 'shoppingmall', charset = 'utf8')\n",
    "\n",
    "cur = conn.cursor()\n",
    "query = \"\"\"\n",
    "select distinct b.userID, userName, prodName, addr, concat(u.mobile1, u.mobile2)\n",
    "from buy_table as b\n",
    "\tinner join user_table as u\n",
    "\ton u.userID = b.userID\n",
    "where b.userID = 'KYM'\"\"\"\n",
    "\n",
    "print('문제 2번')\n",
    "print('-' * 50)\n",
    "print(f\" {'userID'} {'userName'} {'prodName'}   {'addr'}      {'연락처'}\")\n",
    "print('-' * 50)\n",
    "\n",
    "cur.execute(query)\n",
    "rows = cur.fetchall()\n",
    "for row in rows:\n",
    "    print(row)\n",
    "\n",
    "cur.close()\n",
    "conn.close()"
   ]
  },
  {
   "cell_type": "code",
   "execution_count": 14,
   "metadata": {},
   "outputs": [
    {
     "name": "stdout",
     "output_type": "stream",
     "text": [
      "문제 3번\n",
      "--------------------------------------------------\n",
      "userID  userName  prodName  addr      연락처\n",
      "--------------------------------------------------\n",
      "('KHD', '강호동', '운동화', '경북', '01122222222')\n",
      "('KHD', '강호동', '노트북', '경북', '01122222222')\n",
      "('KHD', '강호동', '청바지', '경북', '01122222222')\n",
      "('KJD', '김제동', '책', '경남', None)\n",
      "('KYM', '김용만', '모니터', '서울', '01044444444')\n",
      "('LHJ', '이휘재', '책', '경기', '01188888888')\n",
      "('LHJ', '이휘재', '청바지', '경기', '01188888888')\n",
      "('LHJ', '이휘재', '책', '경기', '01188888888')\n",
      "('PSH', '박수홍', '모니터', '서울', '01000000000')\n",
      "('PSH', '박수홍', '메모리', '서울', '01000000000')\n",
      "('PSH', '박수홍', '운동화', '서울', '01000000000')\n",
      "('PSH', '박수홍', '운동화', '서울', '01000000000')\n"
     ]
    }
   ],
   "source": [
    "conn = pymysql.connect(host = 'localhost', user = 'root', password = '2357',\n",
    "                       db = 'shoppingmall', charset = 'utf8')\n",
    "\n",
    "cur = conn.cursor()\n",
    "query = \"\"\"\n",
    "select b.userID, userName, prodName, addr, concat(u.mobile1, u.mobile2)\n",
    "from buy_table as b\n",
    "\tinner join user_table as u\n",
    "\ton u.userID = b.userID\n",
    "order by b.userID\"\"\"\n",
    "\n",
    "print('문제 3번')\n",
    "print('-' * 50)\n",
    "print(f\"{'userID'}  {'userName'}  {'prodName'}  {'addr'}      {'연락처'}\")\n",
    "print('-' * 50)\n",
    "\n",
    "cur.execute(query)\n",
    "rows = cur.fetchall()\n",
    "for row in rows:\n",
    "    print(row)\n",
    "\n",
    "cur.close()\n",
    "conn.close()"
   ]
  },
  {
   "cell_type": "code",
   "execution_count": 15,
   "metadata": {},
   "outputs": [
    {
     "name": "stdout",
     "output_type": "stream",
     "text": [
      "문제 4번\n",
      "-------------------------\n",
      "userID  userName   addr\n",
      "-------------------------\n",
      "('KHD', '강호동', '경북')\n",
      "('KJD', '김제동', '경남')\n",
      "('KYM', '김용만', '서울')\n",
      "('LHJ', '이휘재', '경기')\n",
      "('PSH', '박수홍', '서울')\n"
     ]
    }
   ],
   "source": [
    "conn = pymysql.connect(host = 'localhost', user = 'root', password = '2357',\n",
    "                       db = 'shoppingmall', charset = 'utf8')\n",
    "\n",
    "cur = conn.cursor()\n",
    "query = \"\"\"\n",
    "select distinct b.userID, userName, addr\n",
    "from buy_table as b\n",
    "\tinner join user_table as u\n",
    "\ton u.userID = b.userID\n",
    "order by b.userID\"\"\"\n",
    "\n",
    "print('문제 4번')\n",
    "print('-' * 25)\n",
    "print(f\"{'userID'}  {'userName'}   {'addr'}\")\n",
    "print('-' * 25)\n",
    "\n",
    "cur.execute(query)\n",
    "rows = cur.fetchall()\n",
    "for row in rows:\n",
    "    print(row)\n",
    "\n",
    "cur.close()\n",
    "conn.close()"
   ]
  },
  {
   "cell_type": "code",
   "execution_count": 16,
   "metadata": {},
   "outputs": [
    {
     "name": "stdout",
     "output_type": "stream",
     "text": [
      "문제 5번\n",
      "----------------------------------------\n",
      "userID  userName   addr      연락처\n",
      "----------------------------------------\n",
      "('KHD', '강호동', '경북', '01122222222')\n",
      "('KHD', '강호동', '경북', '01122222222')\n",
      "('KHD', '강호동', '경북', '01122222222')\n",
      "('KJD', '김제동', '경남', None)\n"
     ]
    }
   ],
   "source": [
    "conn = pymysql.connect(host = 'localhost', user = 'root', password = '2357',\n",
    "                       db = 'shoppingmall', charset = 'utf8')\n",
    "\n",
    "cur = conn.cursor()\n",
    "query = \"\"\"\n",
    "select b.userID, userName, addr, concat(u.mobile1, u.mobile2) as 연락\n",
    "from buy_table as b\n",
    "\tinner join user_table as u\n",
    "\ton u.userID = b.userID\n",
    "where addr in ('경북', '경남')\n",
    "order by b.userID\"\"\"\n",
    "\n",
    "print('문제 5번')\n",
    "print('-' * 40)\n",
    "print(f\"{'userID'}  {'userName'}   {'addr'}      {'연락처'}\")\n",
    "print('-' * 40)\n",
    "\n",
    "cur.execute(query)\n",
    "rows = cur.fetchall()\n",
    "for row in rows:\n",
    "    print(row)\n",
    "\n",
    "cur.close()\n",
    "conn.close()"
   ]
  }
 ],
 "metadata": {
  "kernelspec": {
   "display_name": "TEST",
   "language": "python",
   "name": "python3"
  },
  "language_info": {
   "codemirror_mode": {
    "name": "ipython",
    "version": 3
   },
   "file_extension": ".py",
   "mimetype": "text/x-python",
   "name": "python",
   "nbconvert_exporter": "python",
   "pygments_lexer": "ipython3",
   "version": "3.11.7"
  }
 },
 "nbformat": 4,
 "nbformat_minor": 2
}
