{
 "cells": [
  {
   "cell_type": "markdown",
   "metadata": {},
   "source": [
    "#### MYSQL과 Python 연동하기 <hr>"
   ]
  },
  {
   "cell_type": "code",
   "execution_count": 1,
   "metadata": {},
   "outputs": [],
   "source": [
    "import pymysql\n",
    "import pandas as pd"
   ]
  },
  {
   "cell_type": "code",
   "execution_count": 2,
   "metadata": {},
   "outputs": [
    {
     "name": "stdout",
     "output_type": "stream",
     "text": [
      "((1, 'English', datetime.datetime(2006, 2, 15, 5, 2, 19)), (2, 'Italian', datetime.datetime(2006, 2, 15, 5, 2, 19)), (3, 'Japanese', datetime.datetime(2006, 2, 15, 5, 2, 19)), (4, 'Mandarin', datetime.datetime(2006, 2, 15, 5, 2, 19)), (5, 'French', datetime.datetime(2006, 2, 15, 5, 2, 19)), (6, 'German', datetime.datetime(2006, 2, 15, 5, 2, 19)))\n",
      "   0         1                   2\n",
      "0  1   English 2006-02-15 05:02:19\n",
      "1  2   Italian 2006-02-15 05:02:19\n",
      "2  3  Japanese 2006-02-15 05:02:19\n",
      "3  4  Mandarin 2006-02-15 05:02:19\n",
      "4  5    French 2006-02-15 05:02:19\n",
      "5  6    German 2006-02-15 05:02:19\n"
     ]
    }
   ],
   "source": [
    "conn = pymysql.connect(host = 'localhost', user = 'root', password = '2357',\n",
    "                       db = 'sakila', charset = 'utf8')\n",
    "cur = conn.cursor()\n",
    "cur.execute('select * from language')\n",
    "rows = cur.fetchall()  # 모든 데이터를 가져옴\n",
    "print(rows)\n",
    "language_df = pd.DataFrame(rows)\n",
    "print(language_df)\n",
    "\n",
    "cur.close()\n",
    "conn.close()  # 데이터베이스 연결 종료"
   ]
  },
  {
   "cell_type": "markdown",
   "metadata": {},
   "source": [
    "- inner join  내용"
   ]
  },
  {
   "cell_type": "code",
   "execution_count": 3,
   "metadata": {},
   "outputs": [
    {
     "name": "stdout",
     "output_type": "stream",
     "text": [
      "('CATHERINE.CAMPBELL@sakilacustomer.org',)\n",
      "('JOYCE.EDWARDS@sakilacustomer.org',)\n",
      "('AMBER.DIXON@sakilacustomer.org',)\n",
      "('JEANETTE.GREENE@sakilacustomer.org',)\n",
      "('MINNIE.ROMERO@sakilacustomer.org',)\n",
      "('GWENDOLYN.MAY@sakilacustomer.org',)\n",
      "('SONIA.GREGORY@sakilacustomer.org',)\n",
      "('MIRIAM.MCKINNEY@sakilacustomer.org',)\n",
      "('CHARLES.KOWALSKI@sakilacustomer.org',)\n",
      "('DANIEL.CABRAL@sakilacustomer.org',)\n",
      "('MATTHEW.MAHAN@sakilacustomer.org',)\n",
      "('JEFFERY.PINSON@sakilacustomer.org',)\n",
      "('HERMAN.DEVORE@sakilacustomer.org',)\n",
      "('ELMER.NOE@sakilacustomer.org',)\n",
      "('TERRANCE.ROUSH@sakilacustomer.org',)\n",
      "('TERRENCE.GUNDERSON@sakilacustomer.org',)\n"
     ]
    }
   ],
   "source": [
    "conn = pymysql.connect(host = 'localhost', user = 'root', password = '2357',\n",
    "                       db = 'sakila', charset = 'utf8')\n",
    "\n",
    "cur = conn.cursor()\n",
    "query = \"\"\"\n",
    "select c.email\n",
    "from customer as c\n",
    "    inner join rental as r\n",
    "    on c.customer_id = r.customer_id\n",
    "where date(r.rental_date) = (%s)\"\"\"\n",
    "\n",
    "cur.execute(query, ('2005-06-14'))\n",
    "rows = cur.fetchall()\n",
    "for row in rows:\n",
    "    print(row)\n",
    "\n",
    "cur.close()\n",
    "conn.close()"
   ]
  },
  {
   "cell_type": "code",
   "execution_count": 4,
   "metadata": {},
   "outputs": [],
   "source": [
    "def create_table(conn, cur):\n",
    "    try:\n",
    "        query1 = 'drop table if exists customer'\n",
    "        query2 = \"\"\"\n",
    "            create table customer\n",
    "            (name varchar(10),\n",
    "            category smallint,\n",
    "            region varchar(10))\n",
    "        \"\"\"\n",
    "        cur.execute(query1)\n",
    "        cur.execute(query2)\n",
    "        conn.commit()\n",
    "        print('Table 생성 완료')\n",
    "    \n",
    "    except Exception as e:\n",
    "        print(e)"
   ]
  },
  {
   "cell_type": "code",
   "execution_count": 5,
   "metadata": {},
   "outputs": [
    {
     "name": "stdout",
     "output_type": "stream",
     "text": [
      "Table 생성 완료\n",
      "Database 연결 종료\n"
     ]
    }
   ],
   "source": [
    "def main():\n",
    "    # 데이터베이스(sqlclass_db) 연결\n",
    "    conn = pymysql.connect(host = 'localhost',\n",
    "                           user = 'root', password = '2357',\n",
    "                           db = 'sqlclass_db', charset = 'utf8')\n",
    "    \n",
    "    # cursor 객체 생성\n",
    "    cur = conn.cursor()\n",
    "\n",
    "    # 테이블 생성 함수 호출\n",
    "    create_table(conn, cur)\n",
    "\n",
    "    # 연결 종료\n",
    "    cur.close()\n",
    "    conn.close()\n",
    "    print('Database 연결 종료')\n",
    "\n",
    "main()"
   ]
  },
  {
   "cell_type": "markdown",
   "metadata": {},
   "source": [
    "- execute() 예제"
   ]
  },
  {
   "cell_type": "code",
   "execution_count": 6,
   "metadata": {},
   "outputs": [
    {
     "name": "stdout",
     "output_type": "stream",
     "text": [
      "INSERT 완료\n"
     ]
    }
   ],
   "source": [
    "conn = pymysql.connect(host = 'localhost',\n",
    "                           user = 'root', password = '2357',\n",
    "                           db = 'sqlclass_db', charset = 'utf8')\n",
    "\n",
    "curs = conn.cursor()\n",
    "sql = \"\"\"insert into customer(name, category, region)\n",
    "            values (%s, %s, %s)\"\"\"\n",
    "\n",
    "curs.execute(sql, ('홍길동', 1, '서울'))\n",
    "curs.execute(sql, ('이연수', 2, '서울'))\n",
    "\n",
    "conn.commit()\n",
    "print('INSERT 완료')\n",
    "\n",
    "curs.close()\n",
    "conn.close()"
   ]
  },
  {
   "cell_type": "markdown",
   "metadata": {},
   "source": [
    "- executemany() : 여러 개의 tuple 데이터를 처리"
   ]
  },
  {
   "cell_type": "code",
   "execution_count": 7,
   "metadata": {},
   "outputs": [
    {
     "name": "stdout",
     "output_type": "stream",
     "text": [
      "INSERT 완료\n"
     ]
    }
   ],
   "source": [
    "conn = pymysql.connect(host = 'localhost',\n",
    "                           user = 'root', password = '2357',\n",
    "                           db = 'sqlclass_db', charset = 'utf8')\n",
    "\n",
    "curs = conn.cursor()\n",
    "sql = \"\"\"insert into customer(name, category, region)\n",
    "            values (%s, %s, %s)\"\"\"\n",
    "\n",
    "data = (\n",
    "    ('홍진우', 1, '서울'),\n",
    "    ('강지수', 2, '부산'),\n",
    "    ('김청진', 1, '대구'),\n",
    ")\n",
    "\n",
    "curs.executemany(sql, data)\n",
    "\n",
    "conn.commit()\n",
    "print('INSERT 완료')\n",
    "\n",
    "curs.close()\n",
    "conn.close()"
   ]
  },
  {
   "cell_type": "markdown",
   "metadata": {},
   "source": [
    "- UPDATE, DELETE"
   ]
  },
  {
   "cell_type": "code",
   "execution_count": 11,
   "metadata": {},
   "outputs": [
    {
     "name": "stdout",
     "output_type": "stream",
     "text": [
      "update 완료\n",
      "delete 홍길동\n"
     ]
    }
   ],
   "source": [
    "conn = pymysql.connect(host='localhost', user='root', password = '2357',\n",
    "                       db = 'sqlclass_db', charset='utf8')\n",
    "\n",
    "curs = conn.cursor()\n",
    "sql = \"\"\"update customer\n",
    "         set region = '서울특별시'\n",
    "         where region = '서울'\"\"\"\n",
    "curs.execute(sql)\n",
    "print('update 완료')\n",
    "\n",
    "sql = 'delete from customer where name = %s'\n",
    "curs.execute(sql, '홍길동')\n",
    "print('delete 홍길동')\n",
    "conn.commit()\n",
    "conn.close()"
   ]
  },
  {
   "cell_type": "code",
   "execution_count": 88,
   "metadata": {},
   "outputs": [
    {
     "name": "stdout",
     "output_type": "stream",
     "text": [
      "문제 5번\n",
      "----------------------------------------\n",
      "userID  userName   addr      연락처\n",
      "----------------------------------------\n",
      "('KHD', '강호동', '경북', '01122222222')\n",
      "('KHD', '강호동', '경북', '01122222222')\n",
      "('KHD', '강호동', '경북', '01122222222')\n",
      "('KJD', '김제동', '경남', None)\n"
     ]
    }
   ],
   "source": [
    "conn = pymysql.connect(host = 'localhost', user = 'root', password = '2357',\n",
    "                       db = 'shoppingmall', charset = 'utf8')\n",
    "\n",
    "cur = conn.cursor()\n",
    "query = \"\"\"\n",
    "select b.userID, userName, addr, concat(u.mobile1, u.mobile2) as 연락\n",
    "from buy_table as b\n",
    "\tinner join user_table as u\n",
    "\ton u.userID = b.userID\n",
    "where addr in ('경북', '경남')\n",
    "order by b.userID\"\"\"\n",
    "\n",
    "print('문제 5번')\n",
    "print('-' * 40)\n",
    "print(f\"{'userID'}  {'userName'}   {'addr'}      {'연락처'}\")\n",
    "print('-' * 40)\n",
    "\n",
    "cur.execute(query)\n",
    "rows = cur.fetchall()\n",
    "for row in rows:\n",
    "    print(row)\n",
    "\n",
    "cur.close()\n",
    "conn.close()"
   ]
  }
 ],
 "metadata": {
  "kernelspec": {
   "display_name": "TEST",
   "language": "python",
   "name": "python3"
  },
  "language_info": {
   "codemirror_mode": {
    "name": "ipython",
    "version": 3
   },
   "file_extension": ".py",
   "mimetype": "text/x-python",
   "name": "python",
   "nbconvert_exporter": "python",
   "pygments_lexer": "ipython3",
   "version": "3.9.18"
  }
 },
 "nbformat": 4,
 "nbformat_minor": 2
}
