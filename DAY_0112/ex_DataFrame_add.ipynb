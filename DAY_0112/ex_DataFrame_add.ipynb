{
 "cells": [
  {
   "cell_type": "markdown",
   "id": "8e42b9f4",
   "metadata": {},
   "source": [
    "### [ DataFrame 행/열 추가 ]"
   ]
  },
  {
   "cell_type": "markdown",
   "id": "7ee8a13c",
   "metadata": {},
   "source": [
    "#### (1) 모듈 로딩"
   ]
  },
  {
   "cell_type": "code",
   "execution_count": 1,
   "id": "b4cdea15",
   "metadata": {},
   "outputs": [],
   "source": [
    "import pandas as pd"
   ]
  },
  {
   "cell_type": "markdown",
   "id": "7d61421d",
   "metadata": {},
   "source": [
    "#### (2) 데이터 준비"
   ]
  },
  {
   "cell_type": "code",
   "execution_count": 2,
   "id": "653a0c50",
   "metadata": {},
   "outputs": [],
   "source": [
    "# dict 타입의 데이터 생성\n",
    "exam = {'이름' : ['마징가', '배트맨', '홍길동', '임꺽정'],\n",
    "       '국어' : [98, 79, 99, 100],\n",
    "       '미술' : [70, 99, 87, 80],\n",
    "       '수학' : [98, 79, 99, 72],\n",
    "       '체육' : [80, 93, 69, 91],\n",
    "       '영어' : [40, 50, 60, 70]}"
   ]
  },
  {
   "cell_type": "markdown",
   "id": "aefdc4c0",
   "metadata": {},
   "source": [
    "#### (3) DataFrame에 데이터 저장"
   ]
  },
  {
   "cell_type": "code",
   "execution_count": 3,
   "id": "bc295b3a",
   "metadata": {},
   "outputs": [],
   "source": [
    "examDF = pd.DataFrame(exam)"
   ]
  },
  {
   "cell_type": "code",
   "execution_count": 4,
   "id": "98ca1b95",
   "metadata": {},
   "outputs": [
    {
     "data": {
      "text/html": [
       "<div>\n",
       "<style scoped>\n",
       "    .dataframe tbody tr th:only-of-type {\n",
       "        vertical-align: middle;\n",
       "    }\n",
       "\n",
       "    .dataframe tbody tr th {\n",
       "        vertical-align: top;\n",
       "    }\n",
       "\n",
       "    .dataframe thead th {\n",
       "        text-align: right;\n",
       "    }\n",
       "</style>\n",
       "<table border=\"1\" class=\"dataframe\">\n",
       "  <thead>\n",
       "    <tr style=\"text-align: right;\">\n",
       "      <th></th>\n",
       "      <th>이름</th>\n",
       "      <th>국어</th>\n",
       "      <th>미술</th>\n",
       "      <th>수학</th>\n",
       "      <th>체육</th>\n",
       "      <th>영어</th>\n",
       "    </tr>\n",
       "  </thead>\n",
       "  <tbody>\n",
       "    <tr>\n",
       "      <th>0</th>\n",
       "      <td>마징가</td>\n",
       "      <td>98</td>\n",
       "      <td>70</td>\n",
       "      <td>98</td>\n",
       "      <td>80</td>\n",
       "      <td>40</td>\n",
       "    </tr>\n",
       "    <tr>\n",
       "      <th>1</th>\n",
       "      <td>배트맨</td>\n",
       "      <td>79</td>\n",
       "      <td>99</td>\n",
       "      <td>79</td>\n",
       "      <td>93</td>\n",
       "      <td>50</td>\n",
       "    </tr>\n",
       "    <tr>\n",
       "      <th>2</th>\n",
       "      <td>홍길동</td>\n",
       "      <td>99</td>\n",
       "      <td>87</td>\n",
       "      <td>99</td>\n",
       "      <td>69</td>\n",
       "      <td>60</td>\n",
       "    </tr>\n",
       "    <tr>\n",
       "      <th>3</th>\n",
       "      <td>임꺽정</td>\n",
       "      <td>100</td>\n",
       "      <td>80</td>\n",
       "      <td>72</td>\n",
       "      <td>91</td>\n",
       "      <td>70</td>\n",
       "    </tr>\n",
       "  </tbody>\n",
       "</table>\n",
       "</div>"
      ],
      "text/plain": [
       "    이름   국어  미술  수학  체육  영어\n",
       "0  마징가   98  70  98  80  40\n",
       "1  배트맨   79  99  79  93  50\n",
       "2  홍길동   99  87  99  69  60\n",
       "3  임꺽정  100  80  72  91  70"
      ]
     },
     "execution_count": 4,
     "metadata": {},
     "output_type": "execute_result"
    }
   ],
   "source": [
    "examDF"
   ]
  },
  {
   "cell_type": "markdown",
   "id": "4e4ad73f",
   "metadata": {},
   "source": [
    "#### (4) 저장된 데이터 속성 확인 <hr>"
   ]
  },
  {
   "cell_type": "code",
   "execution_count": 5,
   "id": "431857a6",
   "metadata": {},
   "outputs": [],
   "source": [
    "def printAttribute(df, dfname):\n",
    "    print(f'{dfname}\\n')    \n",
    "    print(f'index\\n ====> {df.index}')\n",
    "    print(f'column\\n ====> {df.columns}')\n",
    "    print(f'shape\\n ====> {df.shape}')\n",
    "    print(f'ndim\\n ====> {df.ndim}')\n",
    "    print(f'size\\n ====> {df.size}')\n",
    "    print(f'dtype\\n ====> {df.dtypes}')"
   ]
  },
  {
   "cell_type": "code",
   "execution_count": 6,
   "id": "1dee3df4",
   "metadata": {},
   "outputs": [
    {
     "name": "stdout",
     "output_type": "stream",
     "text": [
      "examDF\n",
      "\n",
      "index\n",
      " ====> RangeIndex(start=0, stop=4, step=1)\n",
      "column\n",
      " ====> Index(['이름', '국어', '미술', '수학', '체육', '영어'], dtype='object')\n",
      "shape\n",
      " ====> (4, 6)\n",
      "ndim\n",
      " ====> 2\n",
      "size\n",
      " ====> 24\n",
      "dtype\n",
      " ====> 이름    object\n",
      "국어     int64\n",
      "미술     int64\n",
      "수학     int64\n",
      "체육     int64\n",
      "영어     int64\n",
      "dtype: object\n"
     ]
    }
   ],
   "source": [
    "printAttribute(examDF, 'examDF')"
   ]
  },
  {
   "cell_type": "markdown",
   "id": "847b3407",
   "metadata": {},
   "source": [
    "#### (5) DataFrame에 컬럼 (column) 추가 <hr>\n",
    "- 방법 : DF개체변수명[새로운 컬럼명] = 값"
   ]
  },
  {
   "cell_type": "code",
   "execution_count": 7,
   "id": "754e9936",
   "metadata": {},
   "outputs": [
    {
     "data": {
      "text/plain": [
       "Index(['이름', '국어', '미술', '수학', '체육', '영어'], dtype='object')"
      ]
     },
     "execution_count": 7,
     "metadata": {},
     "output_type": "execute_result"
    }
   ],
   "source": [
    "examDF.columns"
   ]
  },
  {
   "cell_type": "code",
   "execution_count": 8,
   "id": "ac8d27f8",
   "metadata": {},
   "outputs": [
    {
     "data": {
      "text/html": [
       "<div>\n",
       "<style scoped>\n",
       "    .dataframe tbody tr th:only-of-type {\n",
       "        vertical-align: middle;\n",
       "    }\n",
       "\n",
       "    .dataframe tbody tr th {\n",
       "        vertical-align: top;\n",
       "    }\n",
       "\n",
       "    .dataframe thead th {\n",
       "        text-align: right;\n",
       "    }\n",
       "</style>\n",
       "<table border=\"1\" class=\"dataframe\">\n",
       "  <thead>\n",
       "    <tr style=\"text-align: right;\">\n",
       "      <th></th>\n",
       "      <th>이름</th>\n",
       "      <th>국어</th>\n",
       "      <th>미술</th>\n",
       "      <th>수학</th>\n",
       "      <th>체육</th>\n",
       "      <th>영어</th>\n",
       "    </tr>\n",
       "  </thead>\n",
       "  <tbody>\n",
       "    <tr>\n",
       "      <th>0</th>\n",
       "      <td>마징가</td>\n",
       "      <td>98</td>\n",
       "      <td>70</td>\n",
       "      <td>98</td>\n",
       "      <td>80</td>\n",
       "      <td>40</td>\n",
       "    </tr>\n",
       "    <tr>\n",
       "      <th>1</th>\n",
       "      <td>배트맨</td>\n",
       "      <td>79</td>\n",
       "      <td>99</td>\n",
       "      <td>79</td>\n",
       "      <td>93</td>\n",
       "      <td>50</td>\n",
       "    </tr>\n",
       "    <tr>\n",
       "      <th>2</th>\n",
       "      <td>홍길동</td>\n",
       "      <td>99</td>\n",
       "      <td>87</td>\n",
       "      <td>99</td>\n",
       "      <td>69</td>\n",
       "      <td>60</td>\n",
       "    </tr>\n",
       "    <tr>\n",
       "      <th>3</th>\n",
       "      <td>임꺽정</td>\n",
       "      <td>100</td>\n",
       "      <td>80</td>\n",
       "      <td>72</td>\n",
       "      <td>91</td>\n",
       "      <td>70</td>\n",
       "    </tr>\n",
       "  </tbody>\n",
       "</table>\n",
       "</div>"
      ],
      "text/plain": [
       "    이름   국어  미술  수학  체육  영어\n",
       "0  마징가   98  70  98  80  40\n",
       "1  배트맨   79  99  79  93  50\n",
       "2  홍길동   99  87  99  69  60\n",
       "3  임꺽정  100  80  72  91  70"
      ]
     },
     "execution_count": 8,
     "metadata": {},
     "output_type": "execute_result"
    }
   ],
   "source": [
    "examDF"
   ]
  },
  {
   "cell_type": "code",
   "execution_count": 9,
   "id": "ccac3fd2",
   "metadata": {},
   "outputs": [],
   "source": [
    "examDF['과학'] = 10"
   ]
  },
  {
   "cell_type": "code",
   "execution_count": 10,
   "id": "5048c566",
   "metadata": {},
   "outputs": [
    {
     "data": {
      "text/html": [
       "<div>\n",
       "<style scoped>\n",
       "    .dataframe tbody tr th:only-of-type {\n",
       "        vertical-align: middle;\n",
       "    }\n",
       "\n",
       "    .dataframe tbody tr th {\n",
       "        vertical-align: top;\n",
       "    }\n",
       "\n",
       "    .dataframe thead th {\n",
       "        text-align: right;\n",
       "    }\n",
       "</style>\n",
       "<table border=\"1\" class=\"dataframe\">\n",
       "  <thead>\n",
       "    <tr style=\"text-align: right;\">\n",
       "      <th></th>\n",
       "      <th>이름</th>\n",
       "      <th>국어</th>\n",
       "      <th>미술</th>\n",
       "      <th>수학</th>\n",
       "      <th>체육</th>\n",
       "      <th>영어</th>\n",
       "      <th>과학</th>\n",
       "    </tr>\n",
       "  </thead>\n",
       "  <tbody>\n",
       "    <tr>\n",
       "      <th>0</th>\n",
       "      <td>마징가</td>\n",
       "      <td>98</td>\n",
       "      <td>70</td>\n",
       "      <td>98</td>\n",
       "      <td>80</td>\n",
       "      <td>40</td>\n",
       "      <td>10</td>\n",
       "    </tr>\n",
       "    <tr>\n",
       "      <th>1</th>\n",
       "      <td>배트맨</td>\n",
       "      <td>79</td>\n",
       "      <td>99</td>\n",
       "      <td>79</td>\n",
       "      <td>93</td>\n",
       "      <td>50</td>\n",
       "      <td>10</td>\n",
       "    </tr>\n",
       "    <tr>\n",
       "      <th>2</th>\n",
       "      <td>홍길동</td>\n",
       "      <td>99</td>\n",
       "      <td>87</td>\n",
       "      <td>99</td>\n",
       "      <td>69</td>\n",
       "      <td>60</td>\n",
       "      <td>10</td>\n",
       "    </tr>\n",
       "    <tr>\n",
       "      <th>3</th>\n",
       "      <td>임꺽정</td>\n",
       "      <td>100</td>\n",
       "      <td>80</td>\n",
       "      <td>72</td>\n",
       "      <td>91</td>\n",
       "      <td>70</td>\n",
       "      <td>10</td>\n",
       "    </tr>\n",
       "  </tbody>\n",
       "</table>\n",
       "</div>"
      ],
      "text/plain": [
       "    이름   국어  미술  수학  체육  영어  과학\n",
       "0  마징가   98  70  98  80  40  10\n",
       "1  배트맨   79  99  79  93  50  10\n",
       "2  홍길동   99  87  99  69  60  10\n",
       "3  임꺽정  100  80  72  91  70  10"
      ]
     },
     "execution_count": 10,
     "metadata": {},
     "output_type": "execute_result"
    }
   ],
   "source": [
    "examDF"
   ]
  },
  {
   "cell_type": "code",
   "execution_count": 11,
   "id": "b5fa465a",
   "metadata": {},
   "outputs": [],
   "source": [
    "# 1개의 데이터 즉 값추가 시 모든 행에 동일 값으로 저장\n",
    "# examDF['컴퓨터'] = [89, 10]"
   ]
  },
  {
   "cell_type": "code",
   "execution_count": 12,
   "id": "43727e45",
   "metadata": {},
   "outputs": [],
   "source": [
    "examDF[6] = 20"
   ]
  },
  {
   "cell_type": "code",
   "execution_count": 13,
   "id": "0e36de08",
   "metadata": {},
   "outputs": [
    {
     "data": {
      "text/plain": [
       "Index(['이름', '국어', '미술', '수학', '체육', '영어', '과학', 6], dtype='object')"
      ]
     },
     "execution_count": 13,
     "metadata": {},
     "output_type": "execute_result"
    }
   ],
   "source": [
    "examDF.columns"
   ]
  },
  {
   "cell_type": "markdown",
   "id": "e323271e",
   "metadata": {},
   "source": [
    "#### (6) DataFrame에 행(row) 추가 <hr>\n",
    "- 방법 : DF객체변수명.loc[새로운 행인덱스] = [컬럼수 만큼 데이터]\n",
    "- 방법 : DF객체변수명.loc[새로운 행인덱스] = 데이터\n",
    "- 불가방법 : DF객체변수명.iloc[새로운 행인덱스] = 데이터 => 데이터 존재해야만 인덱스 할당됨"
   ]
  },
  {
   "cell_type": "code",
   "execution_count": 14,
   "id": "85a93c72",
   "metadata": {},
   "outputs": [
    {
     "data": {
      "text/plain": [
       "RangeIndex(start=0, stop=4, step=1)"
      ]
     },
     "execution_count": 14,
     "metadata": {},
     "output_type": "execute_result"
    }
   ],
   "source": [
    "examDF.index"
   ]
  },
  {
   "cell_type": "code",
   "execution_count": 15,
   "id": "d502bf99",
   "metadata": {},
   "outputs": [],
   "source": [
    "# 컬럼 수 만큼의 데이터를 가진 행 추가\n",
    "examDF.loc[4] = ['원더우먼', 90, 87, 99 ,87, 67, 80, 100]"
   ]
  },
  {
   "cell_type": "code",
   "execution_count": 16,
   "id": "65eb8cc9",
   "metadata": {},
   "outputs": [
    {
     "data": {
      "text/html": [
       "<div>\n",
       "<style scoped>\n",
       "    .dataframe tbody tr th:only-of-type {\n",
       "        vertical-align: middle;\n",
       "    }\n",
       "\n",
       "    .dataframe tbody tr th {\n",
       "        vertical-align: top;\n",
       "    }\n",
       "\n",
       "    .dataframe thead th {\n",
       "        text-align: right;\n",
       "    }\n",
       "</style>\n",
       "<table border=\"1\" class=\"dataframe\">\n",
       "  <thead>\n",
       "    <tr style=\"text-align: right;\">\n",
       "      <th></th>\n",
       "      <th>이름</th>\n",
       "      <th>국어</th>\n",
       "      <th>미술</th>\n",
       "      <th>수학</th>\n",
       "      <th>체육</th>\n",
       "      <th>영어</th>\n",
       "      <th>과학</th>\n",
       "      <th>6</th>\n",
       "    </tr>\n",
       "  </thead>\n",
       "  <tbody>\n",
       "    <tr>\n",
       "      <th>0</th>\n",
       "      <td>마징가</td>\n",
       "      <td>98</td>\n",
       "      <td>70</td>\n",
       "      <td>98</td>\n",
       "      <td>80</td>\n",
       "      <td>40</td>\n",
       "      <td>10</td>\n",
       "      <td>20</td>\n",
       "    </tr>\n",
       "    <tr>\n",
       "      <th>1</th>\n",
       "      <td>배트맨</td>\n",
       "      <td>79</td>\n",
       "      <td>99</td>\n",
       "      <td>79</td>\n",
       "      <td>93</td>\n",
       "      <td>50</td>\n",
       "      <td>10</td>\n",
       "      <td>20</td>\n",
       "    </tr>\n",
       "    <tr>\n",
       "      <th>2</th>\n",
       "      <td>홍길동</td>\n",
       "      <td>99</td>\n",
       "      <td>87</td>\n",
       "      <td>99</td>\n",
       "      <td>69</td>\n",
       "      <td>60</td>\n",
       "      <td>10</td>\n",
       "      <td>20</td>\n",
       "    </tr>\n",
       "    <tr>\n",
       "      <th>3</th>\n",
       "      <td>임꺽정</td>\n",
       "      <td>100</td>\n",
       "      <td>80</td>\n",
       "      <td>72</td>\n",
       "      <td>91</td>\n",
       "      <td>70</td>\n",
       "      <td>10</td>\n",
       "      <td>20</td>\n",
       "    </tr>\n",
       "    <tr>\n",
       "      <th>4</th>\n",
       "      <td>원더우먼</td>\n",
       "      <td>90</td>\n",
       "      <td>87</td>\n",
       "      <td>99</td>\n",
       "      <td>87</td>\n",
       "      <td>67</td>\n",
       "      <td>80</td>\n",
       "      <td>100</td>\n",
       "    </tr>\n",
       "  </tbody>\n",
       "</table>\n",
       "</div>"
      ],
      "text/plain": [
       "     이름   국어  미술  수학  체육  영어  과학    6\n",
       "0   마징가   98  70  98  80  40  10   20\n",
       "1   배트맨   79  99  79  93  50  10   20\n",
       "2   홍길동   99  87  99  69  60  10   20\n",
       "3   임꺽정  100  80  72  91  70  10   20\n",
       "4  원더우먼   90  87  99  87  67  80  100"
      ]
     },
     "execution_count": 16,
     "metadata": {},
     "output_type": "execute_result"
    }
   ],
   "source": [
    "examDF"
   ]
  },
  {
   "cell_type": "code",
   "execution_count": 17,
   "id": "240aa90c",
   "metadata": {},
   "outputs": [],
   "source": [
    "# 행 추가시 iloc는 사용 불가 => Why? 데이터 수에 맞게 인덱스 범위 지정 되기 때문에\n",
    "\n",
    "# examDF.iloc[5] = ['슈퍼맨', 90, 87, 99 ,87, 67, 80, 100]"
   ]
  },
  {
   "cell_type": "code",
   "execution_count": 18,
   "id": "7bed3069",
   "metadata": {},
   "outputs": [],
   "source": [
    "# 1개 데이터를 가진 행 추가\n",
    "examDF.loc[5] = '슈퍼맨'"
   ]
  },
  {
   "cell_type": "code",
   "execution_count": 19,
   "id": "9f95063f",
   "metadata": {},
   "outputs": [
    {
     "data": {
      "text/html": [
       "<div>\n",
       "<style scoped>\n",
       "    .dataframe tbody tr th:only-of-type {\n",
       "        vertical-align: middle;\n",
       "    }\n",
       "\n",
       "    .dataframe tbody tr th {\n",
       "        vertical-align: top;\n",
       "    }\n",
       "\n",
       "    .dataframe thead th {\n",
       "        text-align: right;\n",
       "    }\n",
       "</style>\n",
       "<table border=\"1\" class=\"dataframe\">\n",
       "  <thead>\n",
       "    <tr style=\"text-align: right;\">\n",
       "      <th></th>\n",
       "      <th>이름</th>\n",
       "      <th>국어</th>\n",
       "      <th>미술</th>\n",
       "      <th>수학</th>\n",
       "      <th>체육</th>\n",
       "      <th>영어</th>\n",
       "      <th>과학</th>\n",
       "      <th>6</th>\n",
       "    </tr>\n",
       "  </thead>\n",
       "  <tbody>\n",
       "    <tr>\n",
       "      <th>0</th>\n",
       "      <td>마징가</td>\n",
       "      <td>98</td>\n",
       "      <td>70</td>\n",
       "      <td>98</td>\n",
       "      <td>80</td>\n",
       "      <td>40</td>\n",
       "      <td>10</td>\n",
       "      <td>20</td>\n",
       "    </tr>\n",
       "    <tr>\n",
       "      <th>1</th>\n",
       "      <td>배트맨</td>\n",
       "      <td>79</td>\n",
       "      <td>99</td>\n",
       "      <td>79</td>\n",
       "      <td>93</td>\n",
       "      <td>50</td>\n",
       "      <td>10</td>\n",
       "      <td>20</td>\n",
       "    </tr>\n",
       "    <tr>\n",
       "      <th>2</th>\n",
       "      <td>홍길동</td>\n",
       "      <td>99</td>\n",
       "      <td>87</td>\n",
       "      <td>99</td>\n",
       "      <td>69</td>\n",
       "      <td>60</td>\n",
       "      <td>10</td>\n",
       "      <td>20</td>\n",
       "    </tr>\n",
       "    <tr>\n",
       "      <th>3</th>\n",
       "      <td>임꺽정</td>\n",
       "      <td>100</td>\n",
       "      <td>80</td>\n",
       "      <td>72</td>\n",
       "      <td>91</td>\n",
       "      <td>70</td>\n",
       "      <td>10</td>\n",
       "      <td>20</td>\n",
       "    </tr>\n",
       "    <tr>\n",
       "      <th>4</th>\n",
       "      <td>원더우먼</td>\n",
       "      <td>90</td>\n",
       "      <td>87</td>\n",
       "      <td>99</td>\n",
       "      <td>87</td>\n",
       "      <td>67</td>\n",
       "      <td>80</td>\n",
       "      <td>100</td>\n",
       "    </tr>\n",
       "    <tr>\n",
       "      <th>5</th>\n",
       "      <td>슈퍼맨</td>\n",
       "      <td>슈퍼맨</td>\n",
       "      <td>슈퍼맨</td>\n",
       "      <td>슈퍼맨</td>\n",
       "      <td>슈퍼맨</td>\n",
       "      <td>슈퍼맨</td>\n",
       "      <td>슈퍼맨</td>\n",
       "      <td>슈퍼맨</td>\n",
       "    </tr>\n",
       "  </tbody>\n",
       "</table>\n",
       "</div>"
      ],
      "text/plain": [
       "     이름   국어   미술   수학   체육   영어   과학    6\n",
       "0   마징가   98   70   98   80   40   10   20\n",
       "1   배트맨   79   99   79   93   50   10   20\n",
       "2   홍길동   99   87   99   69   60   10   20\n",
       "3   임꺽정  100   80   72   91   70   10   20\n",
       "4  원더우먼   90   87   99   87   67   80  100\n",
       "5   슈퍼맨  슈퍼맨  슈퍼맨  슈퍼맨  슈퍼맨  슈퍼맨  슈퍼맨  슈퍼맨"
      ]
     },
     "execution_count": 19,
     "metadata": {},
     "output_type": "execute_result"
    }
   ],
   "source": [
    "examDF"
   ]
  }
 ],
 "metadata": {
  "kernelspec": {
   "display_name": "Python 3 (ipykernel)",
   "language": "python",
   "name": "python3"
  },
  "language_info": {
   "codemirror_mode": {
    "name": "ipython",
    "version": 3
   },
   "file_extension": ".py",
   "mimetype": "text/x-python",
   "name": "python",
   "nbconvert_exporter": "python",
   "pygments_lexer": "ipython3",
   "version": "3.9.18"
  }
 },
 "nbformat": 4,
 "nbformat_minor": 5
}
