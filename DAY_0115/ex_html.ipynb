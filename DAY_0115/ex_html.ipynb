{
 "cells": [
  {
   "cell_type": "markdown",
   "metadata": {},
   "source": [
    "## [ HTML ==> DataFrame으로 저장 ]"
   ]
  },
  {
   "cell_type": "markdown",
   "metadata": {},
   "source": [
    "(1) 모듈 로딩"
   ]
  },
  {
   "cell_type": "code",
   "execution_count": 1,
   "metadata": {},
   "outputs": [],
   "source": [
    "import pandas as pd"
   ]
  },
  {
   "cell_type": "markdown",
   "metadata": {},
   "source": [
    "(2) 데이터 준비"
   ]
  },
  {
   "cell_type": "code",
   "execution_count": 2,
   "metadata": {},
   "outputs": [],
   "source": [
    "file = '../DATA/test.html'"
   ]
  },
  {
   "cell_type": "markdown",
   "metadata": {},
   "source": [
    "(3) HTML"
   ]
  },
  {
   "cell_type": "code",
   "execution_count": 9,
   "metadata": {},
   "outputs": [],
   "source": [
    "import lxml\n",
    "testDF = pd.read_html(file, encoding = 'utf-8')"
   ]
  },
  {
   "cell_type": "code",
   "execution_count": 10,
   "metadata": {},
   "outputs": [
    {
     "data": {
      "text/plain": [
       "[    0      1   2\n",
       " 0  번호     이름  전공\n",
       " 1   1    홍길동  의적\n",
       " 2   2    마징가  로봇\n",
       " 3   4    베트맨  박쥐\n",
       " 4   5  스파이더맨  거미,\n",
       "      0     1   2\n",
       " 0  과일명    가격  수량\n",
       " 1   사과  1000  32\n",
       " 2  바나나  3000  10\n",
       " 3   수박  5800   2]"
      ]
     },
     "execution_count": 10,
     "metadata": {},
     "output_type": "execute_result"
    }
   ],
   "source": [
    "testDF"
   ]
  },
  {
   "cell_type": "code",
   "execution_count": 11,
   "metadata": {},
   "outputs": [
    {
     "data": {
      "text/plain": [
       "list"
      ]
     },
     "execution_count": 11,
     "metadata": {},
     "output_type": "execute_result"
    }
   ],
   "source": [
    "type(testDF)"
   ]
  },
  {
   "cell_type": "code",
   "execution_count": 13,
   "metadata": {},
   "outputs": [
    {
     "name": "stdout",
     "output_type": "stream",
     "text": [
      "    0      1   2\n",
      "0  번호     이름  전공\n",
      "1   1    홍길동  의적\n",
      "2   2    마징가  로봇\n",
      "3   4    베트맨  박쥐\n",
      "4   5  스파이더맨  거미\n",
      "\n",
      "     0     1   2\n",
      "0  과일명    가격  수량\n",
      "1   사과  1000  32\n",
      "2  바나나  3000  10\n",
      "3   수박  5800   2\n"
     ]
    }
   ],
   "source": [
    "print(testDF[0], testDF[1], sep = '\\n\\n')"
   ]
  }
 ],
 "metadata": {
  "kernelspec": {
   "display_name": "TEST",
   "language": "python",
   "name": "python3"
  },
  "language_info": {
   "codemirror_mode": {
    "name": "ipython",
    "version": 3
   },
   "file_extension": ".py",
   "mimetype": "text/x-python",
   "name": "python",
   "nbconvert_exporter": "python",
   "pygments_lexer": "ipython3",
   "version": "3.9.18"
  }
 },
 "nbformat": 4,
 "nbformat_minor": 2
}
