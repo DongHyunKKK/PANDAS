{
 "cells": [
  {
   "cell_type": "code",
   "execution_count": 3,
   "id": "aa1a393b-87a2-49ce-9452-a4b1fc63b7d3",
   "metadata": {},
   "outputs": [],
   "source": [
    "### [ 다양한 시리즈 객체 생성] ###"
   ]
  },
  {
   "cell_type": "code",
   "execution_count": 4,
   "id": "22c4c8e6-bdc4-4e50-bb65-b70d9dd4bd0a",
   "metadata": {},
   "outputs": [],
   "source": [
    "# (1) 모듈 로딩"
   ]
  },
  {
   "cell_type": "code",
   "execution_count": 5,
   "id": "98c721e6-5f4f-4cf1-9936-50fe79ac27fd",
   "metadata": {},
   "outputs": [],
   "source": [
    "import pandas as pd"
   ]
  },
  {
   "cell_type": "code",
   "execution_count": 6,
   "id": "2f53b6e6-46d7-4d62-9828-298ac3bffc38",
   "metadata": {},
   "outputs": [
    {
     "ename": "NameError",
     "evalue": "name 'Series' is not defined",
     "output_type": "error",
     "traceback": [
      "\u001b[1;31m---------------------------------------------------------------------------\u001b[0m",
      "\u001b[1;31mNameError\u001b[0m                                 Traceback (most recent call last)",
      "Cell \u001b[1;32mIn[6], line 2\u001b[0m\n\u001b[0;32m      1\u001b[0m \u001b[38;5;66;03m#### Series 객체 생성 - 방법 1\u001b[39;00m\n\u001b[1;32m----> 2\u001b[0m \u001b[43mSeries\u001b[49m(data, index \u001b[38;5;241m=\u001b[39m 지정)\n",
      "\u001b[1;31mNameError\u001b[0m: name 'Series' is not defined"
     ]
    }
   ],
   "source": [
    "#### Series 객체 생성 - 방법 1\n",
    "Series(data, index = 지정)"
   ]
  },
  {
   "cell_type": "code",
   "execution_count": null,
   "id": "f79a4fb0-be1a-43c4-a05d-c83b248b7563",
   "metadata": {},
   "outputs": [],
   "source": [
    "sr1 = pd.Series([11, 22, 33], index = ['one', \n",
    "                                    "
   ]
  }
 ],
 "metadata": {
  "kernelspec": {
   "display_name": "Python 3 (ipykernel)",
   "language": "python",
   "name": "python3"
  },
  "language_info": {
   "codemirror_mode": {
    "name": "ipython",
    "version": 3
   },
   "file_extension": ".py",
   "mimetype": "text/x-python",
   "name": "python",
   "nbconvert_exporter": "python",
   "pygments_lexer": "ipython3",
   "version": "3.9.18"
  }
 },
 "nbformat": 4,
 "nbformat_minor": 5
}
