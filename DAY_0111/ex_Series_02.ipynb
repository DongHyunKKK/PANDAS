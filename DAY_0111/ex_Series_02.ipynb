{
 "cells": [
  {
   "cell_type": "markdown",
   "id": "0bc04be4-bdd1-495d-b9c7-884c00590065",
   "metadata": {},
   "source": [
    "## [ 다양한 시리즈 객체 생성 ] "
   ]
  },
  {
   "cell_type": "markdown",
   "id": "4cae51be-c2b4-48a7-a2ba-209b83e4de35",
   "metadata": {},
   "source": [
    "#### (1) 모듈 로딩"
   ]
  },
  {
   "cell_type": "code",
   "execution_count": 1,
   "id": "98c721e6-5f4f-4cf1-9936-50fe79ac27fd",
   "metadata": {},
   "outputs": [],
   "source": [
    "import pandas as pd"
   ]
  },
  {
   "cell_type": "markdown",
   "id": "4f37e607-670f-4311-8d2f-fa5755840a45",
   "metadata": {},
   "source": [
    "#### (1) Series 객체 생성 - 방법 1"
   ]
  },
  {
   "cell_type": "code",
   "execution_count": null,
   "id": "c1563c03-a71f-44fd-902a-b99e77b5864a",
   "metadata": {},
   "outputs": [],
   "source": [
    "sr1 = pd.Series([11, 22, 33], index = ['one', 'two', 'three'])"
   ]
  },
  {
   "cell_type": "markdown",
   "id": "2a0b230e-bba7-4761-8b81-1e3929cdcbaf",
   "metadata": {},
   "source": [
    "#### (2) Series 객체 생성 - 방법 2"
   ]
  },
  {
   "cell_type": "code",
   "execution_count": 6,
   "id": "f79a4fb0-be1a-43c4-a05d-c83b248b7563",
   "metadata": {},
   "outputs": [
    {
     "data": {
      "text/plain": [
       "one      11\n",
       "two      22\n",
       "three    33\n",
       "Name: jumsu, dtype: int64"
      ]
     },
     "execution_count": 6,
     "metadata": {},
     "output_type": "execute_result"
    }
   ],
   "source": [
    "sr1 = pd.Series([11, 22, 33], index = ['one', 'two', 'three'], name = 'jumsu')\n",
    "sr1"
   ]
  },
  {
   "cell_type": "code",
   "execution_count": 7,
   "id": "0b139827-4475-4e6d-995b-2a33fed42586",
   "metadata": {},
   "outputs": [
    {
     "data": {
      "text/plain": [
       "one      11\n",
       "two      22\n",
       "three    33\n",
       "Name: jumsu, dtype: uint8"
      ]
     },
     "execution_count": 7,
     "metadata": {},
     "output_type": "execute_result"
    }
   ],
   "source": [
    "sr1 = pd.Series([11, 22, 33], index = ['one', 'two', 'three'], name = 'jumsu', dtype = 'uint8')\n",
    "sr1"
   ]
  },
  {
   "cell_type": "code",
   "execution_count": 8,
   "id": "60603067",
   "metadata": {},
   "outputs": [
    {
     "name": "stdout",
     "output_type": "stream",
     "text": [
      "Index(['one', 'two', 'three'], dtype='object')\n",
      "[11 22 33]\n"
     ]
    }
   ],
   "source": [
    "# 속성 확인하기\n",
    "print(sr1.index, sr1.values, sep = '\\n')"
   ]
  },
  {
   "cell_type": "markdown",
   "id": "684f569c-d285-45c7-97f0-61984601c5df",
   "metadata": {},
   "source": [
    "#### (2) Series 객체 생성 - 방법 3 => 저장되는 데이터 dict"
   ]
  },
  {
   "cell_type": "code",
   "execution_count": 2,
   "id": "d3b63db7-214b-4d59-92da-ebd8075beec9",
   "metadata": {},
   "outputs": [],
   "source": [
    "data = {'name' : '홍길동', 'age' : 12, 'job' : '도적'}\n",
    "sr1 = pd.Series(data)"
   ]
  },
  {
   "cell_type": "code",
   "execution_count": 5,
   "id": "863be1b2-7a80-44bb-808c-d8599d607649",
   "metadata": {},
   "outputs": [
    {
     "data": {
      "text/plain": [
       "(Index(['name', 'age', 'job'], dtype='object'),\n",
       " array(['홍길동', 12, '도적'], dtype=object))"
      ]
     },
     "execution_count": 5,
     "metadata": {},
     "output_type": "execute_result"
    }
   ],
   "source": [
    "sr1.index, sr1.values"
   ]
  },
  {
   "cell_type": "markdown",
   "id": "686b16bc-c1c1-42f9-94b5-eef48178589a",
   "metadata": {},
   "source": [
    "#### Series 객체 생성 - 방법 4 => 저장되는 데이터 set"
   ]
  },
  {
   "cell_type": "code",
   "execution_count": 11,
   "id": "7cc13bb8-634c-4403-be7c-dd37fc09cac5",
   "metadata": {},
   "outputs": [
    {
     "data": {
      "text/plain": [
       "1     도적\n",
       "2     12\n",
       "3    홍길동\n",
       "dtype: object"
      ]
     },
     "execution_count": 11,
     "metadata": {},
     "output_type": "execute_result"
    }
   ],
   "source": [
    "data = {'홍길동', 12, '도적'}  \n",
    "# pd.Series(data, index = [1, 2, 3]) # 순서 없고 중복 없으므로 set 타입은 저장될 수 없다.\n",
    "sr1 = pd.Series(list(data), index = [1, 2, 3])\n",
    "sr1"
   ]
  }
 ],
 "metadata": {
  "kernelspec": {
   "display_name": "Python 3 (ipykernel)",
   "language": "python",
   "name": "python3"
  },
  "language_info": {
   "codemirror_mode": {
    "name": "ipython",
    "version": 3
   },
   "file_extension": ".py",
   "mimetype": "text/x-python",
   "name": "python",
   "nbconvert_exporter": "python",
   "pygments_lexer": "ipython3",
   "version": "3.9.18"
  }
 },
 "nbformat": 4,
 "nbformat_minor": 5
}
