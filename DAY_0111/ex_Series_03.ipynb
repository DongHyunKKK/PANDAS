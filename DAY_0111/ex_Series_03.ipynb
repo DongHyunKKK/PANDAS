{
 "cells": [
  {
   "cell_type": "markdown",
   "id": "c4909eaa-60e6-40b7-84a9-c050a369f011",
   "metadata": {},
   "source": [
    "### [ Series 객체 원소 인덱싱 & 슬라이싱]"
   ]
  },
  {
   "cell_type": "markdown",
   "id": "31c205c2-faa3-4877-a55a-d29f1de42fbd",
   "metadata": {},
   "source": [
    "#### (1) 모듈 로딩"
   ]
  },
  {
   "cell_type": "code",
   "execution_count": null,
   "id": "9a0011f0-8d03-4a26-a436-d9635fccbb29",
   "metadata": {},
   "outputs": [],
   "source": [
    "from pandas import Series"
   ]
  },
  {
   "cell_type": "markdown",
   "id": "ca45ce78-adf0-4be4-805d-13d63db0bf0b",
   "metadata": {},
   "source": [
    "#### (2) 데이터 준비"
   ]
  },
  {
   "cell_type": "code",
   "execution_count": 5,
   "id": "5fd81202-4d08-4d53-a4c6-7dfce36a914e",
   "metadata": {},
   "outputs": [],
   "source": [
    "datas = {'name' : '홍길동', 'age' : 12, 'job' : '도적'}"
   ]
  },
  {
   "cell_type": "markdown",
   "id": "530dac8c-3cbd-41be-af4a-59efeff4b5b1",
   "metadata": {},
   "source": [
    "#### (3) Series 객체 생성"
   ]
  },
  {
   "cell_type": "code",
   "execution_count": 6,
   "id": "9e94666b-5a8c-49ee-976a-4bedb0601c99",
   "metadata": {},
   "outputs": [],
   "source": [
    "sr1 = Series(datas)"
   ]
  },
  {
   "cell_type": "code",
   "execution_count": 7,
   "id": "1099ab46-eed1-4310-a5de-55639ae9b76f",
   "metadata": {},
   "outputs": [
    {
     "data": {
      "text/plain": [
       "name    홍길동\n",
       "age      12\n",
       "job      도적\n",
       "dtype: object"
      ]
     },
     "execution_count": 7,
     "metadata": {},
     "output_type": "execute_result"
    }
   ],
   "source": [
    "sr1"
   ]
  },
  {
   "cell_type": "markdown",
   "id": "a0e9ea34-ae43-47dd-8117-d60a74f08e07",
   "metadata": {},
   "source": [
    "#### (3) 인덱싱으로 원소 읽기"
   ]
  },
  {
   "cell_type": "markdown",
   "id": "8b6f0fe1-f403-4e1d-9c3e-35628e08037d",
   "metadata": {},
   "source": [
    "- => 1개 원소 읽기"
   ]
  },
  {
   "cell_type": "code",
   "execution_count": 11,
   "id": "241e00ea-de4c-4c1b-99b4-c9fa57d6b8b3",
   "metadata": {},
   "outputs": [
    {
     "name": "stderr",
     "output_type": "stream",
     "text": [
      "C:\\Users\\xnnly\\AppData\\Local\\Temp\\ipykernel_13364\\4203815686.py:1: FutureWarning: Series.__getitem__ treating keys as positions is deprecated. In a future version, integer keys will always be treated as labels (consistent with DataFrame behavior). To access a value by position, use `ser.iloc[pos]`\n",
      "  sr1['age'], sr1[1], sr1.index\n"
     ]
    },
    {
     "data": {
      "text/plain": [
       "(12, 12, Index(['name', 'age', 'job'], dtype='object'))"
      ]
     },
     "execution_count": 11,
     "metadata": {},
     "output_type": "execute_result"
    }
   ],
   "source": [
    "sr1['age'], sr1[1], sr1.index"
   ]
  },
  {
   "cell_type": "markdown",
   "id": "0fc6eafd-89a5-49e8-9151-4e6eb47b0ac5",
   "metadata": {},
   "source": [
    "- => 2개 원소 읽기"
   ]
  },
  {
   "cell_type": "code",
   "execution_count": null,
   "id": "6adad914-014e-43d2-b51d-8a926e46b186",
   "metadata": {},
   "outputs": [
    {
     "name": "stderr",
     "output_type": "stream",
     "text": [
      "C:\\Users\\xnnly\\AppData\\Local\\Temp\\ipykernel_13364\\2570139617.py:2: FutureWarning: Series.__getitem__ treating keys as positions is deprecated. In a future version, integer keys will always be treated as labels (consistent with DataFrame behavior). To access a value by position, use `ser.iloc[pos]`\n",
      "  sr1['name'], sr1['job'], sr1[0], sr1[2]\n"
     ]
    },
    {
     "data": {
      "text/plain": [
       "('홍길동', '도적', '홍길동', '도적')"
      ]
     },
     "execution_count": 12,
     "metadata": {},
     "output_type": "execute_result"
    }
   ],
   "source": [
    "# 이름과 직업 데이터 읽기\n",
    "sr1['name'], sr1['job'], sr1[0], sr1[2]"
   ]
  },
  {
   "cell_type": "code",
   "execution_count": 20,
   "id": "81e06a86-0bb4-4cb2-9d99-bc5675ec0077",
   "metadata": {},
   "outputs": [
    {
     "name": "stderr",
     "output_type": "stream",
     "text": [
      "C:\\Users\\xnnly\\AppData\\Local\\Temp\\ipykernel_13364\\3023805520.py:3: FutureWarning: Series.__getitem__ treating keys as positions is deprecated. In a future version, integer keys will always be treated as labels (consistent with DataFrame behavior). To access a value by position, use `ser.iloc[pos]`\n",
      "  ret2 = sr1[[0, 2]]\n"
     ]
    },
    {
     "data": {
      "text/plain": [
       "(pandas.core.series.Series,\n",
       " name    홍길동\n",
       " job      도적\n",
       " dtype: object)"
      ]
     },
     "execution_count": 20,
     "metadata": {},
     "output_type": "execute_result"
    }
   ],
   "source": [
    "# 이름과 직업 데이터 읽기 ==> 리스트 단위로 읽기\n",
    "ret = sr1[['name', 'job']]\n",
    "ret2 = sr1[[0, 2]]\n",
    "type(ret), ret"
   ]
  },
  {
   "cell_type": "code",
   "execution_count": 21,
   "id": "05d3ebd5-9b48-45cb-bcdd-bff4f735804d",
   "metadata": {},
   "outputs": [
    {
     "data": {
      "text/plain": [
       "(pandas.core.series.Series,\n",
       " name    홍길동\n",
       " job      도적\n",
       " dtype: object)"
      ]
     },
     "execution_count": 21,
     "metadata": {},
     "output_type": "execute_result"
    }
   ],
   "source": [
    "type(ret2), ret2"
   ]
  },
  {
   "cell_type": "markdown",
   "id": "1db7e3b4-28a1-42cc-99ac-6c3cfe6669ea",
   "metadata": {},
   "source": [
    "#### (4) 슬라이싱으로 원소 읽기 "
   ]
  },
  {
   "cell_type": "markdown",
   "id": "01fb8f05-c9e0-4938-9f76-ce968ec16240",
   "metadata": {},
   "source": [
    "* 위치 인덱스로 슬라이싱"
   ]
  },
  {
   "cell_type": "code",
   "execution_count": 22,
   "id": "f684eb40-0d39-472b-9b4e-9c6fff82b067",
   "metadata": {},
   "outputs": [
    {
     "data": {
      "text/plain": [
       "name    홍길동\n",
       "age      12\n",
       "dtype: object"
      ]
     },
     "execution_count": 22,
     "metadata": {},
     "output_type": "execute_result"
    }
   ],
   "source": [
    "# 위치 인덱스로 슬라이싱\n",
    "sr1[:2]"
   ]
  },
  {
   "cell_type": "code",
   "execution_count": 23,
   "id": "8faed5ce-245e-40d9-81cb-25d8cc961586",
   "metadata": {},
   "outputs": [
    {
     "data": {
      "text/plain": [
       "name    홍길동\n",
       "age      12\n",
       "dtype: object"
      ]
     },
     "execution_count": 23,
     "metadata": {},
     "output_type": "execute_result"
    }
   ],
   "source": [
    "sr1[:-1]"
   ]
  },
  {
   "cell_type": "code",
   "execution_count": 24,
   "id": "3cdf9043-6117-4299-afc5-85dae7928277",
   "metadata": {},
   "outputs": [
    {
     "data": {
      "text/plain": [
       "name    홍길동\n",
       "age      12\n",
       "dtype: object"
      ]
     },
     "execution_count": 24,
     "metadata": {},
     "output_type": "execute_result"
    }
   ],
   "source": [
    "sr1[:2]"
   ]
  },
  {
   "cell_type": "code",
   "execution_count": 25,
   "id": "5a1506cf-d320-4621-934a-5ed7137c2f20",
   "metadata": {},
   "outputs": [
    {
     "data": {
      "text/plain": [
       "name    홍길동\n",
       "age      12\n",
       "job      도적\n",
       "dtype: object"
      ]
     },
     "execution_count": 25,
     "metadata": {},
     "output_type": "execute_result"
    }
   ],
   "source": [
    "sr1[:]"
   ]
  },
  {
   "cell_type": "markdown",
   "id": "e1e7bfe6-6c0d-429a-8c56-45565c9aab36",
   "metadata": {},
   "source": [
    "* 레이블 인덱스로 슬라이싱"
   ]
  },
  {
   "cell_type": "code",
   "execution_count": 26,
   "id": "550e28b4-fca2-43d8-b181-8902aec4c8b2",
   "metadata": {},
   "outputs": [
    {
     "data": {
      "text/plain": [
       "name    홍길동\n",
       "age      12\n",
       "job      도적\n",
       "dtype: object"
      ]
     },
     "execution_count": 26,
     "metadata": {},
     "output_type": "execute_result"
    }
   ],
   "source": [
    "sr1['name' : 'job']  # 시작 <= ~ <= 끝 == sr1[:3]"
   ]
  },
  {
   "cell_type": "code",
   "execution_count": 27,
   "id": "fc4f8e4b-2c99-4c19-b589-09a8bc8005ad",
   "metadata": {},
   "outputs": [
    {
     "data": {
      "text/plain": [
       "name    홍길동\n",
       "age      12\n",
       "dtype: object"
      ]
     },
     "execution_count": 27,
     "metadata": {},
     "output_type": "execute_result"
    }
   ],
   "source": [
    "sr1['name' : 'age']  # 시작 <= ~ <= 끝  == sr1[:2]"
   ]
  }
 ],
 "metadata": {
  "kernelspec": {
   "display_name": "Python 3 (ipykernel)",
   "language": "python",
   "name": "python3"
  },
  "language_info": {
   "codemirror_mode": {
    "name": "ipython",
    "version": 3
   },
   "file_extension": ".py",
   "mimetype": "text/x-python",
   "name": "python",
   "nbconvert_exporter": "python",
   "pygments_lexer": "ipython3",
   "version": "3.9.18"
  }
 },
 "nbformat": 4,
 "nbformat_minor": 5
}
