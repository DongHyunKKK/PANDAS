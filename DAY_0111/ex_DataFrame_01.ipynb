{
 "cells": [
  {
   "cell_type": "markdown",
   "id": "2bdcc964-6639-42c3-8d85-ccbb8edcbcbb",
   "metadata": {},
   "source": [
    "### [DataFrame 살펴보기]\n",
    "* 데이터를 테이블 즉, 표 형태로 저장하는 자료구조\n",
    "* 구성 : 행 + 열\n",
    "* 생성 : pandas.DataFrame() 생성자 메서드"
   ]
  },
  {
   "cell_type": "markdown",
   "id": "04d6085e-f260-405c-8b0f-d2d0a305b859",
   "metadata": {},
   "source": [
    "#### (1) 모듈 로딩"
   ]
  },
  {
   "cell_type": "code",
   "execution_count": 83,
   "id": "1516a690-4fb0-45c5-b8b2-5e1a35e39dcb",
   "metadata": {},
   "outputs": [],
   "source": [
    "from pandas import DataFrame"
   ]
  },
  {
   "cell_type": "markdown",
   "id": "6fb5fefe-9c69-4ea6-9ba9-b1cca82d05c8",
   "metadata": {},
   "source": [
    "#### (2) 데이터 준비"
   ]
  },
  {
   "cell_type": "code",
   "execution_count": 84,
   "id": "ec848892-ee5d-4c48-a14e-9f2e28d45881",
   "metadata": {},
   "outputs": [],
   "source": [
    "data = [[11, 22, 33], [44, 55, 66], [77, 88, 99]]"
   ]
  },
  {
   "cell_type": "markdown",
   "id": "e5264068-1a15-4032-8393-3b9b48cce902",
   "metadata": {},
   "source": [
    "#### (3) DataFrame으로 저장 즉, DataFrame 객체 생성"
   ]
  },
  {
   "cell_type": "code",
   "execution_count": 85,
   "id": "9957decf-d71a-4634-ae97-28c477046f9f",
   "metadata": {},
   "outputs": [
    {
     "data": {
      "text/html": [
       "<div>\n",
       "<style scoped>\n",
       "    .dataframe tbody tr th:only-of-type {\n",
       "        vertical-align: middle;\n",
       "    }\n",
       "\n",
       "    .dataframe tbody tr th {\n",
       "        vertical-align: top;\n",
       "    }\n",
       "\n",
       "    .dataframe thead th {\n",
       "        text-align: right;\n",
       "    }\n",
       "</style>\n",
       "<table border=\"1\" class=\"dataframe\">\n",
       "  <thead>\n",
       "    <tr style=\"text-align: right;\">\n",
       "      <th></th>\n",
       "      <th>0</th>\n",
       "      <th>1</th>\n",
       "      <th>2</th>\n",
       "    </tr>\n",
       "  </thead>\n",
       "  <tbody>\n",
       "    <tr>\n",
       "      <th>0</th>\n",
       "      <td>11</td>\n",
       "      <td>22</td>\n",
       "      <td>33</td>\n",
       "    </tr>\n",
       "    <tr>\n",
       "      <th>1</th>\n",
       "      <td>44</td>\n",
       "      <td>55</td>\n",
       "      <td>66</td>\n",
       "    </tr>\n",
       "    <tr>\n",
       "      <th>2</th>\n",
       "      <td>77</td>\n",
       "      <td>88</td>\n",
       "      <td>99</td>\n",
       "    </tr>\n",
       "  </tbody>\n",
       "</table>\n",
       "</div>"
      ],
      "text/plain": [
       "    0   1   2\n",
       "0  11  22  33\n",
       "1  44  55  66\n",
       "2  77  88  99"
      ]
     },
     "execution_count": 85,
     "metadata": {},
     "output_type": "execute_result"
    }
   ],
   "source": [
    "df1 = DataFrame(data)\n",
    "df1"
   ]
  },
  {
   "cell_type": "markdown",
   "id": "c8b6649b-8033-4a69-a6cf-8dc22c1dd31b",
   "metadata": {},
   "source": [
    "#### (4) DataFrame의 속성 읽기 => 객체변수명.속성명"
   ]
  },
  {
   "cell_type": "code",
   "execution_count": 86,
   "id": "99cf9a71-5f2a-4a35-8939-05a5751605a6",
   "metadata": {},
   "outputs": [
    {
     "data": {
      "text/plain": [
       "RangeIndex(start=0, stop=3, step=1)"
      ]
     },
     "execution_count": 86,
     "metadata": {},
     "output_type": "execute_result"
    }
   ],
   "source": [
    "df1.index"
   ]
  },
  {
   "cell_type": "code",
   "execution_count": 87,
   "id": "d6580417-067f-450f-9939-de364f10450c",
   "metadata": {},
   "outputs": [
    {
     "data": {
      "text/plain": [
       "RangeIndex(start=0, stop=3, step=1)"
      ]
     },
     "execution_count": 87,
     "metadata": {},
     "output_type": "execute_result"
    }
   ],
   "source": [
    "df1.columns"
   ]
  },
  {
   "cell_type": "code",
   "execution_count": 88,
   "id": "bdfbc11f-63ee-4ab7-acb5-f9d267965747",
   "metadata": {},
   "outputs": [
    {
     "data": {
      "text/plain": [
       "array([[11, 22, 33],\n",
       "       [44, 55, 66],\n",
       "       [77, 88, 99]], dtype=int64)"
      ]
     },
     "execution_count": 88,
     "metadata": {},
     "output_type": "execute_result"
    }
   ],
   "source": [
    "df1.values"
   ]
  },
  {
   "cell_type": "code",
   "execution_count": 89,
   "id": "3805ece9-bd32-4e6d-8e8c-979b0a5604d6",
   "metadata": {},
   "outputs": [
    {
     "data": {
      "text/plain": [
       "2"
      ]
     },
     "execution_count": 89,
     "metadata": {},
     "output_type": "execute_result"
    }
   ],
   "source": [
    "# 데이터의 차원 정보 n-dimension\n",
    "df1.ndim"
   ]
  },
  {
   "cell_type": "code",
   "execution_count": 90,
   "id": "647cc1b3-a16d-4be9-aaba-f5436e84027c",
   "metadata": {},
   "outputs": [
    {
     "data": {
      "text/plain": [
       "0    int64\n",
       "1    int64\n",
       "2    int64\n",
       "dtype: object"
      ]
     },
     "execution_count": 90,
     "metadata": {},
     "output_type": "execute_result"
    }
   ],
   "source": [
    "# 컬럼별 데이터 타입\n",
    "df1.dtypes"
   ]
  },
  {
   "cell_type": "markdown",
   "id": "39b4c282-b16b-4a85-b2d8-4e2bb076a284",
   "metadata": {},
   "source": [
    "#### (5) 원소 읽기 ==> 행과 열 저장 ==> 1개 원소"
   ]
  },
  {
   "cell_type": "markdown",
   "id": "3f845891-3e36-4cf5-a7a9-18997ab18c2d",
   "metadata": {},
   "source": [
    " - 컬럼 즉 열 (column) 읽기 ==> 객체변수명[인덱스]"
   ]
  },
  {
   "cell_type": "code",
   "execution_count": 91,
   "id": "3dcfa01c-a525-4f98-aaad-5be06e33ec61",
   "metadata": {},
   "outputs": [
    {
     "data": {
      "text/html": [
       "<div>\n",
       "<style scoped>\n",
       "    .dataframe tbody tr th:only-of-type {\n",
       "        vertical-align: middle;\n",
       "    }\n",
       "\n",
       "    .dataframe tbody tr th {\n",
       "        vertical-align: top;\n",
       "    }\n",
       "\n",
       "    .dataframe thead th {\n",
       "        text-align: right;\n",
       "    }\n",
       "</style>\n",
       "<table border=\"1\" class=\"dataframe\">\n",
       "  <thead>\n",
       "    <tr style=\"text-align: right;\">\n",
       "      <th></th>\n",
       "      <th>0</th>\n",
       "      <th>1</th>\n",
       "      <th>2</th>\n",
       "    </tr>\n",
       "  </thead>\n",
       "  <tbody>\n",
       "    <tr>\n",
       "      <th>0</th>\n",
       "      <td>11</td>\n",
       "      <td>22</td>\n",
       "      <td>33</td>\n",
       "    </tr>\n",
       "    <tr>\n",
       "      <th>1</th>\n",
       "      <td>44</td>\n",
       "      <td>55</td>\n",
       "      <td>66</td>\n",
       "    </tr>\n",
       "    <tr>\n",
       "      <th>2</th>\n",
       "      <td>77</td>\n",
       "      <td>88</td>\n",
       "      <td>99</td>\n",
       "    </tr>\n",
       "  </tbody>\n",
       "</table>\n",
       "</div>"
      ],
      "text/plain": [
       "    0   1   2\n",
       "0  11  22  33\n",
       "1  44  55  66\n",
       "2  77  88  99"
      ]
     },
     "execution_count": 91,
     "metadata": {},
     "output_type": "execute_result"
    }
   ],
   "source": [
    "df1"
   ]
  },
  {
   "cell_type": "code",
   "execution_count": 92,
   "id": "1c85eb52-b60f-4d16-88a9-ebb126c86adc",
   "metadata": {},
   "outputs": [
    {
     "data": {
      "text/plain": [
       "0    11\n",
       "1    44\n",
       "2    77\n",
       "Name: 0, dtype: int64"
      ]
     },
     "execution_count": 92,
     "metadata": {},
     "output_type": "execute_result"
    }
   ],
   "source": [
    "df1[0]"
   ]
  },
  {
   "cell_type": "code",
   "execution_count": 93,
   "id": "c060f557-aa68-4835-8393-6fde578c1a99",
   "metadata": {},
   "outputs": [
    {
     "data": {
      "text/plain": [
       "0    22\n",
       "1    55\n",
       "2    88\n",
       "Name: 1, dtype: int64"
      ]
     },
     "execution_count": 93,
     "metadata": {},
     "output_type": "execute_result"
    }
   ],
   "source": [
    "df1[1]"
   ]
  },
  {
   "cell_type": "code",
   "execution_count": 94,
   "id": "df4a13d2-2469-4332-9130-97ba79978ecc",
   "metadata": {},
   "outputs": [
    {
     "data": {
      "text/plain": [
       "0    33\n",
       "1    66\n",
       "2    99\n",
       "Name: 2, dtype: int64"
      ]
     },
     "execution_count": 94,
     "metadata": {},
     "output_type": "execute_result"
    }
   ],
   "source": [
    "df1[2]"
   ]
  },
  {
   "cell_type": "code",
   "execution_count": 95,
   "id": "077f2b4c-d643-4cfe-bc99-1be6f652df82",
   "metadata": {},
   "outputs": [],
   "source": [
    "# 컬럼 변경\n",
    "df1.columns = ['A', 'B', 'C']"
   ]
  },
  {
   "cell_type": "code",
   "execution_count": 96,
   "id": "101dbfd5-1d6b-4ce1-b1a3-d04ffbcdf359",
   "metadata": {},
   "outputs": [
    {
     "data": {
      "text/plain": [
       "0    11\n",
       "1    44\n",
       "2    77\n",
       "Name: A, dtype: int64"
      ]
     },
     "execution_count": 96,
     "metadata": {},
     "output_type": "execute_result"
    }
   ],
   "source": [
    "df1['A']"
   ]
  },
  {
   "cell_type": "code",
   "execution_count": 97,
   "id": "9659d28f-559e-4845-96c1-e67e812fb898",
   "metadata": {},
   "outputs": [
    {
     "data": {
      "text/plain": [
       "0    11\n",
       "1    44\n",
       "2    77\n",
       "Name: A, dtype: int64"
      ]
     },
     "execution_count": 97,
     "metadata": {},
     "output_type": "execute_result"
    }
   ],
   "source": [
    "df1.A"
   ]
  },
  {
   "cell_type": "code",
   "execution_count": 98,
   "id": "03de8ecc-9d74-46ba-9cfb-01917e5e2da0",
   "metadata": {},
   "outputs": [],
   "source": [
    "# df1[0] 컬럼 레이블 인덱싱 후 정수 인덱스로 출력 안된다."
   ]
  },
  {
   "cell_type": "code",
   "execution_count": 99,
   "id": "932eb99c-4e75-4d60-89f5-2ca9d289ad57",
   "metadata": {},
   "outputs": [],
   "source": [
    "df1.columns = [0, 1, 2]"
   ]
  },
  {
   "cell_type": "code",
   "execution_count": 100,
   "id": "ca6e8905-4266-49cc-99aa-475f9ebedae1",
   "metadata": {},
   "outputs": [],
   "source": [
    "# df1.0은 안된다."
   ]
  },
  {
   "cell_type": "code",
   "execution_count": 101,
   "id": "e37964f0-3a59-4d40-9a40-bef92e9569c9",
   "metadata": {},
   "outputs": [
    {
     "data": {
      "text/plain": [
       "55"
      ]
     },
     "execution_count": 101,
     "metadata": {},
     "output_type": "execute_result"
    }
   ],
   "source": [
    "df1[1][1]"
   ]
  },
  {
   "cell_type": "markdown",
   "id": "b8d23e5e-ed93-457f-b7c2-313c88eca0e0",
   "metadata": {},
   "source": [
    "- 로우 즉 행 (row) 읽기 ==> 방법 2가지\n",
    "  * 위치 인덱스로 읽기 : 객체변수명.iloc[인덱스]\n",
    "  * 레이블 인덱스로 읽기 : 객체변수명.loc[인덱스]"
   ]
  },
  {
   "cell_type": "code",
   "execution_count": 102,
   "id": "f802d9f6-4501-4cb0-9c46-8458c5729478",
   "metadata": {},
   "outputs": [],
   "source": [
    "df1.index = ['one', 'two', 'three']"
   ]
  },
  {
   "cell_type": "code",
   "execution_count": 103,
   "id": "66700d2b-ab15-4b0d-b9d5-4d77ae75fcba",
   "metadata": {},
   "outputs": [
    {
     "data": {
      "text/plain": [
       "0    11\n",
       "1    22\n",
       "2    33\n",
       "Name: one, dtype: int64"
      ]
     },
     "execution_count": 103,
     "metadata": {},
     "output_type": "execute_result"
    }
   ],
   "source": [
    "df1.loc['one']"
   ]
  },
  {
   "cell_type": "code",
   "execution_count": 104,
   "id": "1155df88-2ea5-48c7-a538-06611a7943c5",
   "metadata": {},
   "outputs": [
    {
     "data": {
      "text/plain": [
       "0    11\n",
       "1    22\n",
       "2    33\n",
       "Name: one, dtype: int64"
      ]
     },
     "execution_count": 104,
     "metadata": {},
     "output_type": "execute_result"
    }
   ],
   "source": [
    "df1.iloc[0]"
   ]
  },
  {
   "cell_type": "markdown",
   "id": "80970b44-1a15-4441-8bb6-147ece42cee4",
   "metadata": {},
   "source": [
    "#### (6) 모든 원소를 한 번에 한 개씩만 출력"
   ]
  },
  {
   "cell_type": "code",
   "execution_count": 105,
   "id": "fc2080d4-1052-4a48-8d9f-79e840a90eef",
   "metadata": {},
   "outputs": [
    {
     "data": {
      "text/html": [
       "<div>\n",
       "<style scoped>\n",
       "    .dataframe tbody tr th:only-of-type {\n",
       "        vertical-align: middle;\n",
       "    }\n",
       "\n",
       "    .dataframe tbody tr th {\n",
       "        vertical-align: top;\n",
       "    }\n",
       "\n",
       "    .dataframe thead th {\n",
       "        text-align: right;\n",
       "    }\n",
       "</style>\n",
       "<table border=\"1\" class=\"dataframe\">\n",
       "  <thead>\n",
       "    <tr style=\"text-align: right;\">\n",
       "      <th></th>\n",
       "      <th>0</th>\n",
       "      <th>1</th>\n",
       "      <th>2</th>\n",
       "    </tr>\n",
       "  </thead>\n",
       "  <tbody>\n",
       "    <tr>\n",
       "      <th>one</th>\n",
       "      <td>11</td>\n",
       "      <td>22</td>\n",
       "      <td>33</td>\n",
       "    </tr>\n",
       "    <tr>\n",
       "      <th>two</th>\n",
       "      <td>44</td>\n",
       "      <td>55</td>\n",
       "      <td>66</td>\n",
       "    </tr>\n",
       "    <tr>\n",
       "      <th>three</th>\n",
       "      <td>77</td>\n",
       "      <td>88</td>\n",
       "      <td>99</td>\n",
       "    </tr>\n",
       "  </tbody>\n",
       "</table>\n",
       "</div>"
      ],
      "text/plain": [
       "        0   1   2\n",
       "one    11  22  33\n",
       "two    44  55  66\n",
       "three  77  88  99"
      ]
     },
     "execution_count": 105,
     "metadata": {},
     "output_type": "execute_result"
    }
   ],
   "source": [
    "df1"
   ]
  },
  {
   "cell_type": "code",
   "execution_count": 106,
   "id": "a8b66395-779e-4dba-8cc2-94f72677f215",
   "metadata": {},
   "outputs": [
    {
     "name": "stdout",
     "output_type": "stream",
     "text": [
      "11\n",
      "44\n",
      "77\n",
      "22\n",
      "55\n",
      "88\n",
      "33\n",
      "66\n",
      "99\n"
     ]
    }
   ],
   "source": [
    "for i in range(3):\n",
    "    for j in df1[i]:\n",
    "        print(j)"
   ]
  },
  {
   "cell_type": "markdown",
   "id": "b8568422-4fe2-44d8-b9bc-6ed30b1bdcff",
   "metadata": {},
   "source": [
    "- 객체변수명.iloc[행인덱스, 열인덱스] / 객체변수명.loc[행레이블, 열인덱스 or 열레이블]"
   ]
  },
  {
   "cell_type": "code",
   "execution_count": 107,
   "id": "acbf2c82-4e87-4c19-8cdf-aa22779f9849",
   "metadata": {},
   "outputs": [
    {
     "data": {
      "text/plain": [
       "(11, 33, 44, 66)"
      ]
     },
     "execution_count": 107,
     "metadata": {},
     "output_type": "execute_result"
    }
   ],
   "source": [
    "df1.iloc[0,0], df1.iloc[0,2], df1.iloc[1, 0], df1.iloc[1, 2] "
   ]
  },
  {
   "cell_type": "code",
   "execution_count": 108,
   "id": "4bb1b029-1f4a-46f9-929e-ce73954ebe56",
   "metadata": {},
   "outputs": [
    {
     "data": {
      "text/plain": [
       "(11, 33)"
      ]
     },
     "execution_count": 108,
     "metadata": {},
     "output_type": "execute_result"
    }
   ],
   "source": [
    "df1.loc['one', 0], df1.loc['one', 2]"
   ]
  },
  {
   "cell_type": "code",
   "execution_count": 109,
   "id": "968cd420-9e6c-473a-baae-870734347f9c",
   "metadata": {},
   "outputs": [
    {
     "data": {
      "text/html": [
       "<div>\n",
       "<style scoped>\n",
       "    .dataframe tbody tr th:only-of-type {\n",
       "        vertical-align: middle;\n",
       "    }\n",
       "\n",
       "    .dataframe tbody tr th {\n",
       "        vertical-align: top;\n",
       "    }\n",
       "\n",
       "    .dataframe thead th {\n",
       "        text-align: right;\n",
       "    }\n",
       "</style>\n",
       "<table border=\"1\" class=\"dataframe\">\n",
       "  <thead>\n",
       "    <tr style=\"text-align: right;\">\n",
       "      <th></th>\n",
       "      <th>A</th>\n",
       "      <th>B</th>\n",
       "      <th>C</th>\n",
       "    </tr>\n",
       "  </thead>\n",
       "  <tbody>\n",
       "    <tr>\n",
       "      <th>one</th>\n",
       "      <td>11</td>\n",
       "      <td>22</td>\n",
       "      <td>33</td>\n",
       "    </tr>\n",
       "    <tr>\n",
       "      <th>two</th>\n",
       "      <td>44</td>\n",
       "      <td>55</td>\n",
       "      <td>66</td>\n",
       "    </tr>\n",
       "    <tr>\n",
       "      <th>three</th>\n",
       "      <td>77</td>\n",
       "      <td>88</td>\n",
       "      <td>99</td>\n",
       "    </tr>\n",
       "  </tbody>\n",
       "</table>\n",
       "</div>"
      ],
      "text/plain": [
       "        A   B   C\n",
       "one    11  22  33\n",
       "two    44  55  66\n",
       "three  77  88  99"
      ]
     },
     "execution_count": 109,
     "metadata": {},
     "output_type": "execute_result"
    }
   ],
   "source": [
    "# 컬럼명 변경 => 객체변수명.columns = 새로운컬럼명\n",
    "df1.columns = ['A', 'B', 'C']\n",
    "df1"
   ]
  },
  {
   "cell_type": "code",
   "execution_count": 110,
   "id": "87d0f3ae-cff7-41e9-bfa4-424614974ec8",
   "metadata": {},
   "outputs": [
    {
     "data": {
      "text/plain": [
       "(22, 66, 22, 66)"
      ]
     },
     "execution_count": 110,
     "metadata": {},
     "output_type": "execute_result"
    }
   ],
   "source": [
    "df1.loc['one', 'B'], df1.loc['two', 'C'], df1.loc['one']['B'], df1.loc['two']['C']"
   ]
  },
  {
   "cell_type": "code",
   "execution_count": 111,
   "id": "7c26e44f-8116-4c04-9689-4907e4254d0f",
   "metadata": {},
   "outputs": [
    {
     "name": "stderr",
     "output_type": "stream",
     "text": [
      "C:\\Users\\xnnly\\AppData\\Local\\Temp\\ipykernel_7284\\3859963798.py:1: FutureWarning: Series.__getitem__ treating keys as positions is deprecated. In a future version, integer keys will always be treated as labels (consistent with DataFrame behavior). To access a value by position, use `ser.iloc[pos]`\n",
      "  df1.iloc[0, 1], df1.iloc[1, 2], df1.iloc[0][1], df1.iloc[1][2]\n"
     ]
    },
    {
     "data": {
      "text/plain": [
       "(22, 66, 22, 66)"
      ]
     },
     "execution_count": 111,
     "metadata": {},
     "output_type": "execute_result"
    }
   ],
   "source": [
    "df1.iloc[0, 1], df1.iloc[1, 2], df1.iloc[0][1], df1.iloc[1][2]"
   ]
  },
  {
   "cell_type": "code",
   "execution_count": 112,
   "id": "ad235551-ee35-4f77-9721-37e242c9a746",
   "metadata": {},
   "outputs": [
    {
     "data": {
      "text/plain": [
       "A    11\n",
       "B    22\n",
       "C    33\n",
       "Name: one, dtype: int64"
      ]
     },
     "execution_count": 112,
     "metadata": {},
     "output_type": "execute_result"
    }
   ],
   "source": [
    "df1.iloc[0]"
   ]
  },
  {
   "cell_type": "code",
   "execution_count": 113,
   "id": "de64146f-cfa1-45f4-a268-ccc571a25a9c",
   "metadata": {},
   "outputs": [
    {
     "data": {
      "text/plain": [
       "one      22\n",
       "two      55\n",
       "three    88\n",
       "Name: B, dtype: int64"
      ]
     },
     "execution_count": 113,
     "metadata": {},
     "output_type": "execute_result"
    }
   ],
   "source": [
    "df1['B']"
   ]
  },
  {
   "cell_type": "code",
   "execution_count": 114,
   "id": "17a7745e-5800-456a-8a5e-6e534ac57f0f",
   "metadata": {},
   "outputs": [
    {
     "data": {
      "text/plain": [
       "(Index(['one', 'two', 'three'], dtype='object'),\n",
       " Index(['A', 'B', 'C'], dtype='object'))"
      ]
     },
     "execution_count": 114,
     "metadata": {},
     "output_type": "execute_result"
    }
   ],
   "source": [
    "df1.index, df1.columns"
   ]
  },
  {
   "cell_type": "code",
   "execution_count": 115,
   "id": "e39fc301-8f69-4fef-9031-53e45046dd19",
   "metadata": {},
   "outputs": [
    {
     "data": {
      "text/plain": [
       "(3, 3)"
      ]
     },
     "execution_count": 115,
     "metadata": {},
     "output_type": "execute_result"
    }
   ],
   "source": [
    "df1.shape[0], df1.shape[1]"
   ]
  },
  {
   "cell_type": "markdown",
   "id": "8ce4be79-ed1f-4188-b59b-8646a5146f47",
   "metadata": {},
   "source": [
    "- iloc를 활용한 모든 원소 출력 ==> 행과 열의 번호"
   ]
  },
  {
   "cell_type": "code",
   "execution_count": 116,
   "id": "ea5dd73c-dc80-4e70-947b-f673e139c794",
   "metadata": {},
   "outputs": [
    {
     "name": "stdout",
     "output_type": "stream",
     "text": [
      "0 0 11\n",
      "0 1 22\n",
      "0 2 33\n",
      "1 0 44\n",
      "1 1 55\n",
      "1 2 66\n",
      "2 0 77\n",
      "2 1 88\n",
      "2 2 99\n"
     ]
    }
   ],
   "source": [
    "for row in range(df1.shape[0]):\n",
    "    for col in range(df1.shape[1]):\n",
    "        print(row, col, df1.iloc[row, col])"
   ]
  },
  {
   "cell_type": "markdown",
   "id": "da064ba8-ea93-4287-9450-44280359e688",
   "metadata": {},
   "source": [
    "- loc를 활용한 모든 원소 출력 ==> 행 레이블/이름과 열 레이블/이름"
   ]
  },
  {
   "cell_type": "code",
   "execution_count": 117,
   "id": "e181ce18-3b3f-47db-a0d0-553a1bb6ed48",
   "metadata": {},
   "outputs": [
    {
     "name": "stdout",
     "output_type": "stream",
     "text": [
      "one\n",
      "---- A\n",
      "---- B\n",
      "---- C\n",
      "two\n",
      "---- A\n",
      "---- B\n",
      "---- C\n",
      "three\n",
      "---- A\n",
      "---- B\n",
      "---- C\n"
     ]
    }
   ],
   "source": [
    "for row in df1.index:\n",
    "    print(row)\n",
    "    for col in df1.columns:\n",
    "        print('----', col)"
   ]
  },
  {
   "cell_type": "markdown",
   "id": "80cda376-3892-4b6a-a1b8-f633325937d8",
   "metadata": {},
   "source": [
    "#### [문제] one, three 행을 선택 후 저장"
   ]
  },
  {
   "cell_type": "code",
   "execution_count": 120,
   "id": "b519fa76-1821-41a2-9ff3-6b9e6b1da7c9",
   "metadata": {},
   "outputs": [
    {
     "data": {
      "text/html": [
       "<div>\n",
       "<style scoped>\n",
       "    .dataframe tbody tr th:only-of-type {\n",
       "        vertical-align: middle;\n",
       "    }\n",
       "\n",
       "    .dataframe tbody tr th {\n",
       "        vertical-align: top;\n",
       "    }\n",
       "\n",
       "    .dataframe thead th {\n",
       "        text-align: right;\n",
       "    }\n",
       "</style>\n",
       "<table border=\"1\" class=\"dataframe\">\n",
       "  <thead>\n",
       "    <tr style=\"text-align: right;\">\n",
       "      <th></th>\n",
       "      <th>A</th>\n",
       "      <th>B</th>\n",
       "      <th>C</th>\n",
       "    </tr>\n",
       "  </thead>\n",
       "  <tbody>\n",
       "    <tr>\n",
       "      <th>one</th>\n",
       "      <td>11</td>\n",
       "      <td>22</td>\n",
       "      <td>33</td>\n",
       "    </tr>\n",
       "    <tr>\n",
       "      <th>three</th>\n",
       "      <td>77</td>\n",
       "      <td>88</td>\n",
       "      <td>99</td>\n",
       "    </tr>\n",
       "  </tbody>\n",
       "</table>\n",
       "</div>"
      ],
      "text/plain": [
       "        A   B   C\n",
       "one    11  22  33\n",
       "three  77  88  99"
      ]
     },
     "execution_count": 120,
     "metadata": {},
     "output_type": "execute_result"
    }
   ],
   "source": [
    "df1.loc[['one', 'three']]"
   ]
  },
  {
   "cell_type": "code",
   "execution_count": 123,
   "id": "f763e296-95eb-483d-b838-d6a731fdd035",
   "metadata": {},
   "outputs": [
    {
     "data": {
      "text/plain": [
       "(pandas.core.series.Series,\n",
       " pandas.core.frame.DataFrame,\n",
       " pandas.core.frame.DataFrame)"
      ]
     },
     "execution_count": 123,
     "metadata": {},
     "output_type": "execute_result"
    }
   ],
   "source": [
    "# 행이 한개라도 리스트에 넣어서 출력하면 시리즈가 아니라 데이터프레임이다.\n",
    "type(df1.loc['one']), type(df1.loc[['one']]), type(df1.loc[['one', 'three']])"
   ]
  }
 ],
 "metadata": {
  "kernelspec": {
   "display_name": "Python 3 (ipykernel)",
   "language": "python",
   "name": "python3"
  },
  "language_info": {
   "codemirror_mode": {
    "name": "ipython",
    "version": 3
   },
   "file_extension": ".py",
   "mimetype": "text/x-python",
   "name": "python",
   "nbconvert_exporter": "python",
   "pygments_lexer": "ipython3",
   "version": "3.9.18"
  }
 },
 "nbformat": 4,
 "nbformat_minor": 5
}
